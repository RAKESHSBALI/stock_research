{
 "cells": [
  {
   "cell_type": "markdown",
   "id": "e429c73f",
   "metadata": {},
   "source": [
    "### Import Libraries"
   ]
  },
  {
   "cell_type": "code",
   "execution_count": 2,
   "id": "619431e3",
   "metadata": {},
   "outputs": [],
   "source": [
    "import pandas as pd\n",
    "import yfinance as yf\n",
    "import numpy as np\n",
    "from scipy.stats import iqr # For Finding Volume Outliers\n",
    "\n",
    "import plotly.graph_objects as go\n",
    "from plotly.subplots import make_subplots"
   ]
  },
  {
   "cell_type": "markdown",
   "id": "e7557654",
   "metadata": {},
   "source": [
    "Read the CSV file"
   ]
  },
  {
   "cell_type": "code",
   "execution_count": 3,
   "id": "1886d948",
   "metadata": {},
   "outputs": [
    {
     "data": {
      "text/plain": [
       "1435"
      ]
     },
     "execution_count": 3,
     "metadata": {},
     "output_type": "execute_result"
    }
   ],
   "source": [
    "## Stock Symbols contains list of 1250 NSE stock symbols (Need to update it every quarter / year)\n",
    "\n",
    "stock_data = pd.read_csv('stock_data.csv')\n",
    "stock_data.set_index('SYMBOL', inplace=True)\n",
    "len(stock_data)"
   ]
  },
  {
   "cell_type": "markdown",
   "id": "5e3940a6",
   "metadata": {},
   "source": [
    "### Tracking Stocks"
   ]
  },
  {
   "cell_type": "code",
   "execution_count": 4,
   "id": "9024ae66",
   "metadata": {},
   "outputs": [],
   "source": [
    "tracking_stocks = ['KOTAKBANK']"
   ]
  },
  {
   "cell_type": "markdown",
   "id": "d28b4c63",
   "metadata": {},
   "source": [
    "### Tracking Stocks Plot"
   ]
  },
  {
   "cell_type": "code",
   "execution_count": 5,
   "id": "69ec01ef",
   "metadata": {
    "scrolled": true
   },
   "outputs": [
    {
     "name": "stdout",
     "output_type": "stream",
     "text": [
      "Execution Completed!!!!\n"
     ]
    }
   ],
   "source": [
    "figure_html = open('tracking.html', 'w')\n",
    "\n",
    "for symbol in tracking_stocks:\n",
    "    data = yf.download(symbol + \".NS\", start='2023-01-01', end=pd.to_datetime('today')+pd.DateOffset(1), progress=False)\n",
    "    \n",
    "    data['20DMA'] = data['Close'].rolling(window=20).mean()\n",
    "    data['40DMA']= data['Close'].rolling(window=40).mean()\n",
    "    data['100DMA']= data['Close'].rolling(window=100).mean()\n",
    "    \n",
    "    data['diff'] = data['Close'] - data['Open']\n",
    "    data.loc[data['diff'] >= 0, 'color'] = 'green'\n",
    "    data.loc[data['diff'] < 0, 'color'] = 'red'\n",
    "    \n",
    "    plot_data = data[data.index > (pd.to_datetime('today') - pd.DateOffset(days=240))]\n",
    "\n",
    "    figure = make_subplots(specs=[[{\"secondary_y\": True}]])\n",
    "    figure.add_trace(go.Candlestick(x = plot_data.index,\n",
    "                              open = plot_data['Open'],\n",
    "                              high = plot_data['High'],\n",
    "                              low = plot_data['Low'],\n",
    "                              close = plot_data['Close'],\n",
    "                              name='Price'))\n",
    "    # Adding Text Below\n",
    "    stock_row = stock_data.loc[symbol]\n",
    "    figure.add_annotation(dict(font=dict(color='black', size=16.5),\n",
    "        x=0.5,  # Center aligned horizontally\n",
    "        y=-0.12, showarrow=False,\n",
    "        text=\"SECTOR - \" + stock_row['SECTOR'] + \"  FNO - \" + str(bool(stock_row['FNO'])),\n",
    "        textangle=0,\n",
    "        xanchor='center',  # Center aligned horizontally\n",
    "        yanchor='bottom',  # Aligned to the bottom\n",
    "        xref=\"paper\", yref=\"paper\"))\n",
    "    \n",
    "    figure.add_trace(go.Scatter(x=plot_data.index, y=plot_data['20DMA'], marker_color='blue',name='20 Day MA'))\n",
    "    figure.add_trace(go.Scatter(x=plot_data.index, y=plot_data['40DMA'], marker_color='orange',name='40 Day MA'))\n",
    "    figure.add_trace(go.Scatter(x=plot_data.index, y=plot_data['100DMA'], marker_color='green',name='100 Day MA'))\n",
    "    figure.add_trace(go.Bar(x=plot_data.index, y=plot_data['Volume'], name='Volume', marker={'color':plot_data['color']}),secondary_y=True)\n",
    "    \n",
    "    figure.update_yaxes(range=[0, plot_data['Volume'].max()*5], secondary_y=True)\n",
    "    figure.update_yaxes(visible=False, secondary_y=True)\n",
    "    figure.update_layout(title={'text':symbol, 'x':0.5})\n",
    "    \n",
    "    figure.update_layout(xaxis_rangeslider_visible=False)  #hide range slider\n",
    "    figure.update_xaxes(rangebreaks = [ dict(bounds=['sat','mon']) ] ) # hide weekends \n",
    "    \n",
    "    # figure.show()\n",
    "    figure_html.write(figure.to_html(full_html=False))\n",
    "print('Execution Completed!!!!')"
   ]
  }
 ],
 "metadata": {
  "kernelspec": {
   "display_name": "Python 3 (ipykernel)",
   "language": "python",
   "name": "python3"
  },
  "language_info": {
   "codemirror_mode": {
    "name": "ipython",
    "version": 3
   },
   "file_extension": ".py",
   "mimetype": "text/x-python",
   "name": "python",
   "nbconvert_exporter": "python",
   "pygments_lexer": "ipython3",
   "version": "3.11.4"
  }
 },
 "nbformat": 4,
 "nbformat_minor": 5
}
