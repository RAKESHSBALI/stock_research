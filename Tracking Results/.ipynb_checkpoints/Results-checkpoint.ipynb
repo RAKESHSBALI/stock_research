{
 "cells": [
  {
   "cell_type": "code",
   "execution_count": 1,
   "id": "45e22339",
   "metadata": {},
   "outputs": [],
   "source": [
    "from nsepython import *\n",
    "\n",
    "import pandas as pd\n",
    "import yfinance as yf\n",
    "import numpy as np\n",
    "\n",
    "import plotly.graph_objects as go\n",
    "from plotly.subplots import make_subplots"
   ]
  },
  {
   "cell_type": "code",
   "execution_count": 2,
   "id": "c3141fab",
   "metadata": {},
   "outputs": [
    {
     "data": {
      "text/plain": [
       "1435"
      ]
     },
     "execution_count": 2,
     "metadata": {},
     "output_type": "execute_result"
    }
   ],
   "source": [
    "## Stock Symbols contains list of 1250 NSE stock symbols (Need to update it every quarter / year)\n",
    "\n",
    "stock_data = pd.read_csv('stock_data.csv')\n",
    "stock_data.set_index('SYMBOL', inplace=True)\n",
    "len(stock_data)"
   ]
  },
  {
   "cell_type": "code",
   "execution_count": 3,
   "id": "a7179ee7",
   "metadata": {},
   "outputs": [
    {
     "name": "stdout",
     "output_type": "stream",
     "text": [
      "[{'symbol': 'GMBREW', 'companyName': 'GM Breweries Limited', 'industry': '-', 'audited': 'Un-Audited', 'cumulative': 'Non-cumulative', 'indAs': 'Ind-AS New', 'reInd': 'N', 'period': 'Quarterly', 'relatingTo': 'Third Quarter', 'financialYear': '01-Apr-2023 To 31-Mar-2024', 'filingDate': '04-Jan-2024 13:20', 'seqNumber': '1162026', 'bank': 'N', 'fromDate': '01-Oct-2023', 'toDate': '31-Dec-2023', 'oldNewFlag': 'N', 'xbrl': 'https://nsearchives.nseindia.com/corporate/xbrl/INDAS_100996_1007649_04012024012033.xml', 'format': 'New', 'params': '01-Oct-202331-Dec-2023Q3UNNNNEGMBREW', 'resultDescription': None, 'resultDetailedDataLink': None, 'exchdisstime': '04-Jan-2024 13:24:06', 'difference': '00:03:33', 'isin': 'INE075D01018', 'consolidated': 'Non-Consolidated', 'broadCastDate': '04-Jan-2024 13:20:33'}]\n"
     ]
    },
    {
     "data": {
      "text/html": [
       "<div>\n",
       "<style scoped>\n",
       "    .dataframe tbody tr th:only-of-type {\n",
       "        vertical-align: middle;\n",
       "    }\n",
       "\n",
       "    .dataframe tbody tr th {\n",
       "        vertical-align: top;\n",
       "    }\n",
       "\n",
       "    .dataframe thead th {\n",
       "        text-align: right;\n",
       "    }\n",
       "</style>\n",
       "<table border=\"1\" class=\"dataframe\">\n",
       "  <thead>\n",
       "    <tr style=\"text-align: right;\">\n",
       "      <th></th>\n",
       "      <th>symbol</th>\n",
       "      <th>companyName</th>\n",
       "      <th>industry</th>\n",
       "      <th>audited</th>\n",
       "      <th>cumulative</th>\n",
       "      <th>indAs</th>\n",
       "      <th>reInd</th>\n",
       "      <th>period</th>\n",
       "      <th>relatingTo</th>\n",
       "      <th>financialYear</th>\n",
       "      <th>...</th>\n",
       "      <th>xbrl</th>\n",
       "      <th>format</th>\n",
       "      <th>params</th>\n",
       "      <th>resultDescription</th>\n",
       "      <th>resultDetailedDataLink</th>\n",
       "      <th>exchdisstime</th>\n",
       "      <th>difference</th>\n",
       "      <th>isin</th>\n",
       "      <th>consolidated</th>\n",
       "      <th>broadCastDate</th>\n",
       "    </tr>\n",
       "  </thead>\n",
       "  <tbody>\n",
       "    <tr>\n",
       "      <th>0</th>\n",
       "      <td>GMBREW</td>\n",
       "      <td>GM Breweries Limited</td>\n",
       "      <td>-</td>\n",
       "      <td>Un-Audited</td>\n",
       "      <td>Non-cumulative</td>\n",
       "      <td>Ind-AS New</td>\n",
       "      <td>N</td>\n",
       "      <td>Quarterly</td>\n",
       "      <td>Third Quarter</td>\n",
       "      <td>01-Apr-2023 To 31-Mar-2024</td>\n",
       "      <td>...</td>\n",
       "      <td>https://nsearchives.nseindia.com/corporate/xbr...</td>\n",
       "      <td>New</td>\n",
       "      <td>01-Oct-202331-Dec-2023Q3UNNNNEGMBREW</td>\n",
       "      <td>None</td>\n",
       "      <td>None</td>\n",
       "      <td>04-Jan-2024 13:24:06</td>\n",
       "      <td>00:03:33</td>\n",
       "      <td>INE075D01018</td>\n",
       "      <td>Non-Consolidated</td>\n",
       "      <td>04-Jan-2024 13:20:33</td>\n",
       "    </tr>\n",
       "  </tbody>\n",
       "</table>\n",
       "<p>1 rows × 26 columns</p>\n",
       "</div>"
      ],
      "text/plain": [
       "   symbol           companyName industry     audited      cumulative  \\\n",
       "0  GMBREW  GM Breweries Limited        -  Un-Audited  Non-cumulative   \n",
       "\n",
       "        indAs reInd     period     relatingTo               financialYear  \\\n",
       "0  Ind-AS New     N  Quarterly  Third Quarter  01-Apr-2023 To 31-Mar-2024   \n",
       "\n",
       "   ...                                               xbrl format  \\\n",
       "0  ...  https://nsearchives.nseindia.com/corporate/xbr...    New   \n",
       "\n",
       "                                 params resultDescription  \\\n",
       "0  01-Oct-202331-Dec-2023Q3UNNNNEGMBREW              None   \n",
       "\n",
       "  resultDetailedDataLink          exchdisstime difference          isin  \\\n",
       "0                   None  04-Jan-2024 13:24:06   00:03:33  INE075D01018   \n",
       "\n",
       "       consolidated         broadCastDate  \n",
       "0  Non-Consolidated  04-Jan-2024 13:20:33  \n",
       "\n",
       "[1 rows x 26 columns]"
      ]
     },
     "execution_count": 3,
     "metadata": {},
     "output_type": "execute_result"
    }
   ],
   "source": [
    "nse_results(\"equities\",\"Quarterly\")"
   ]
  },
  {
   "cell_type": "code",
   "execution_count": 4,
   "id": "af27028a",
   "metadata": {},
   "outputs": [
    {
     "name": "stdout",
     "output_type": "stream",
     "text": [
      "Give Correct Index Input\n"
     ]
    }
   ],
   "source": [
    "nse_results('GMBREW')"
   ]
  },
  {
   "cell_type": "code",
   "execution_count": 5,
   "id": "8a00a6fb",
   "metadata": {},
   "outputs": [],
   "source": [
    "df = pd.DataFrame(nse_past_results('GMBREW').get('resCmpData'))"
   ]
  },
  {
   "cell_type": "code",
   "execution_count": 6,
   "id": "03f442d6",
   "metadata": {},
   "outputs": [],
   "source": [
    "new_columns = {'re_to_dt': 'DATE', 're_create_dt': 'RELEASE_DATE', 're_net_sale':'INCOME',\n",
    "                're_oth_tot_exp':'COST', 're_oth_inc_new':'OTHER_INCOME',\n",
    "                're_pro_loss_bef_tax':'PBT', 're_net_profit':'PROFIT','re_basic_eps_for_cont_dic_opr':'EPS'}\n",
    "df.rename(columns=new_columns, inplace=True)"
   ]
  },
  {
   "cell_type": "code",
   "execution_count": 7,
   "id": "6292104a",
   "metadata": {},
   "outputs": [],
   "source": [
    "df = df[['DATE', 'INCOME', 'COST', 'OTHER_INCOME', 'PBT', 'PROFIT', 'EPS']]\n",
    "df.set_index('DATE', inplace=True)"
   ]
  },
  {
   "cell_type": "code",
   "execution_count": 8,
   "id": "7c511e7f",
   "metadata": {},
   "outputs": [],
   "source": [
    "for col in df.columns:\n",
    "    df[col] = pd.to_numeric(df[col])\n",
    "    \n",
    "for col in df.columns:\n",
    "    if col != 'EPS':\n",
    "        df[col] = round(df[col] / 100)\n",
    "        df[col] = df[col].round(0).astype(int)"
   ]
  },
  {
   "cell_type": "code",
   "execution_count": 9,
   "id": "505af26b",
   "metadata": {},
   "outputs": [],
   "source": [
    "df['OP_INCOME'] = df['INCOME'] - df['COST']\n",
    "df['OPM'] = (100 * (df['INCOME'] - df['COST']) / df['INCOME']).round(2).astype(str) + \"%\"\n",
    "df['TAX'] = (100 * (df['PBT'] - df['PROFIT']) / df['PBT']).round(2).astype(str) + \"%\""
   ]
  },
  {
   "cell_type": "code",
   "execution_count": 10,
   "id": "cff92953",
   "metadata": {},
   "outputs": [
    {
     "data": {
      "text/html": [
       "<div>\n",
       "<style scoped>\n",
       "    .dataframe tbody tr th:only-of-type {\n",
       "        vertical-align: middle;\n",
       "    }\n",
       "\n",
       "    .dataframe tbody tr th {\n",
       "        vertical-align: top;\n",
       "    }\n",
       "\n",
       "    .dataframe thead th {\n",
       "        text-align: right;\n",
       "    }\n",
       "</style>\n",
       "<table border=\"1\" class=\"dataframe\">\n",
       "  <thead>\n",
       "    <tr style=\"text-align: right;\">\n",
       "      <th></th>\n",
       "      <th>INCOME</th>\n",
       "      <th>OP_INCOME</th>\n",
       "      <th>OPM</th>\n",
       "      <th>OTHER_INCOME</th>\n",
       "      <th>TAX</th>\n",
       "      <th>PROFIT</th>\n",
       "      <th>EPS</th>\n",
       "    </tr>\n",
       "    <tr>\n",
       "      <th>DATE</th>\n",
       "      <th></th>\n",
       "      <th></th>\n",
       "      <th></th>\n",
       "      <th></th>\n",
       "      <th></th>\n",
       "      <th></th>\n",
       "      <th></th>\n",
       "    </tr>\n",
       "  </thead>\n",
       "  <tbody>\n",
       "    <tr>\n",
       "      <th>31-DEC-2023</th>\n",
       "      <td>618</td>\n",
       "      <td>24</td>\n",
       "      <td>3.88%</td>\n",
       "      <td>7</td>\n",
       "      <td>25.81%</td>\n",
       "      <td>23</td>\n",
       "      <td>12.37</td>\n",
       "    </tr>\n",
       "    <tr>\n",
       "      <th>30-SEP-2023</th>\n",
       "      <td>594</td>\n",
       "      <td>28</td>\n",
       "      <td>4.71%</td>\n",
       "      <td>1</td>\n",
       "      <td>24.14%</td>\n",
       "      <td>22</td>\n",
       "      <td>12.23</td>\n",
       "    </tr>\n",
       "    <tr>\n",
       "      <th>30-JUN-2023</th>\n",
       "      <td>579</td>\n",
       "      <td>25</td>\n",
       "      <td>4.32%</td>\n",
       "      <td>1</td>\n",
       "      <td>25.93%</td>\n",
       "      <td>20</td>\n",
       "      <td>10.90</td>\n",
       "    </tr>\n",
       "    <tr>\n",
       "      <th>31-MAR-2023</th>\n",
       "      <td>603</td>\n",
       "      <td>30</td>\n",
       "      <td>4.98%</td>\n",
       "      <td>15</td>\n",
       "      <td>22.22%</td>\n",
       "      <td>35</td>\n",
       "      <td>19.19</td>\n",
       "    </tr>\n",
       "    <tr>\n",
       "      <th>31-DEC-2022</th>\n",
       "      <td>609</td>\n",
       "      <td>32</td>\n",
       "      <td>5.25%</td>\n",
       "      <td>3</td>\n",
       "      <td>25.71%</td>\n",
       "      <td>26</td>\n",
       "      <td>14.18</td>\n",
       "    </tr>\n",
       "  </tbody>\n",
       "</table>\n",
       "</div>"
      ],
      "text/plain": [
       "             INCOME  OP_INCOME    OPM  OTHER_INCOME     TAX  PROFIT    EPS\n",
       "DATE                                                                      \n",
       "31-DEC-2023     618         24  3.88%             7  25.81%      23  12.37\n",
       "30-SEP-2023     594         28  4.71%             1  24.14%      22  12.23\n",
       "30-JUN-2023     579         25  4.32%             1  25.93%      20  10.90\n",
       "31-MAR-2023     603         30  4.98%            15  22.22%      35  19.19\n",
       "31-DEC-2022     609         32  5.25%             3  25.71%      26  14.18"
      ]
     },
     "execution_count": 10,
     "metadata": {},
     "output_type": "execute_result"
    }
   ],
   "source": [
    "df = df[['INCOME', 'OP_INCOME', 'OPM','OTHER_INCOME', 'TAX', 'PROFIT', 'EPS']]\n",
    "df"
   ]
  },
  {
   "cell_type": "code",
   "execution_count": 11,
   "id": "4c5648bf",
   "metadata": {},
   "outputs": [
    {
     "data": {
      "text/html": [
       "<div>\n",
       "<style scoped>\n",
       "    .dataframe tbody tr th:only-of-type {\n",
       "        vertical-align: middle;\n",
       "    }\n",
       "\n",
       "    .dataframe tbody tr th {\n",
       "        vertical-align: top;\n",
       "    }\n",
       "\n",
       "    .dataframe thead th {\n",
       "        text-align: right;\n",
       "    }\n",
       "</style>\n",
       "<table border=\"1\" class=\"dataframe\">\n",
       "  <thead>\n",
       "    <tr style=\"text-align: right;\">\n",
       "      <th>DATE</th>\n",
       "      <th>31-DEC-2023</th>\n",
       "      <th>30-SEP-2023</th>\n",
       "      <th>30-JUN-2023</th>\n",
       "      <th>31-MAR-2023</th>\n",
       "      <th>31-DEC-2022</th>\n",
       "    </tr>\n",
       "  </thead>\n",
       "  <tbody>\n",
       "    <tr>\n",
       "      <th>INCOME</th>\n",
       "      <td>618</td>\n",
       "      <td>594</td>\n",
       "      <td>579</td>\n",
       "      <td>603</td>\n",
       "      <td>609</td>\n",
       "    </tr>\n",
       "    <tr>\n",
       "      <th>OP_INCOME</th>\n",
       "      <td>24</td>\n",
       "      <td>28</td>\n",
       "      <td>25</td>\n",
       "      <td>30</td>\n",
       "      <td>32</td>\n",
       "    </tr>\n",
       "    <tr>\n",
       "      <th>OPM</th>\n",
       "      <td>3.88%</td>\n",
       "      <td>4.71%</td>\n",
       "      <td>4.32%</td>\n",
       "      <td>4.98%</td>\n",
       "      <td>5.25%</td>\n",
       "    </tr>\n",
       "    <tr>\n",
       "      <th>OTHER_INCOME</th>\n",
       "      <td>7</td>\n",
       "      <td>1</td>\n",
       "      <td>1</td>\n",
       "      <td>15</td>\n",
       "      <td>3</td>\n",
       "    </tr>\n",
       "    <tr>\n",
       "      <th>TAX</th>\n",
       "      <td>25.81%</td>\n",
       "      <td>24.14%</td>\n",
       "      <td>25.93%</td>\n",
       "      <td>22.22%</td>\n",
       "      <td>25.71%</td>\n",
       "    </tr>\n",
       "    <tr>\n",
       "      <th>PROFIT</th>\n",
       "      <td>23</td>\n",
       "      <td>22</td>\n",
       "      <td>20</td>\n",
       "      <td>35</td>\n",
       "      <td>26</td>\n",
       "    </tr>\n",
       "    <tr>\n",
       "      <th>EPS</th>\n",
       "      <td>12.37</td>\n",
       "      <td>12.23</td>\n",
       "      <td>10.9</td>\n",
       "      <td>19.19</td>\n",
       "      <td>14.18</td>\n",
       "    </tr>\n",
       "  </tbody>\n",
       "</table>\n",
       "</div>"
      ],
      "text/plain": [
       "DATE         31-DEC-2023 30-SEP-2023 30-JUN-2023 31-MAR-2023 31-DEC-2022\n",
       "INCOME               618         594         579         603         609\n",
       "OP_INCOME             24          28          25          30          32\n",
       "OPM                3.88%       4.71%       4.32%       4.98%       5.25%\n",
       "OTHER_INCOME           7           1           1          15           3\n",
       "TAX               25.81%      24.14%      25.93%      22.22%      25.71%\n",
       "PROFIT                23          22          20          35          26\n",
       "EPS                12.37       12.23        10.9       19.19       14.18"
      ]
     },
     "execution_count": 11,
     "metadata": {},
     "output_type": "execute_result"
    }
   ],
   "source": [
    "# Divide columns by 100 (excluding 'EPS')\n",
    "df_string = df.astype(str)\n",
    "\n",
    "df = df_string.transpose()\n",
    "df\n",
    "#df = df.round(0).astype(int)"
   ]
  },
  {
   "cell_type": "code",
   "execution_count": 12,
   "id": "163ddf5f",
   "metadata": {},
   "outputs": [],
   "source": [
    "df_reversed = df.iloc[:, ::-1]"
   ]
  },
  {
   "cell_type": "code",
   "execution_count": 17,
   "id": "826ad18e",
   "metadata": {},
   "outputs": [
    {
     "name": "stdout",
     "output_type": "stream",
     "text": [
      "Execution Completed!!!!\n"
     ]
    },
    {
     "name": "stderr",
     "output_type": "stream",
     "text": [
      "/var/folders/y8/cj_f7jps7ylfv21xfzjbynm40000gn/T/ipykernel_29383/3606356057.py:48: FutureWarning:\n",
      "\n",
      "this method is deprecated in favour of `Styler.to_html()`\n",
      "\n",
      "/var/folders/y8/cj_f7jps7ylfv21xfzjbynm40000gn/T/ipykernel_29383/3606356057.py:53: FutureWarning:\n",
      "\n",
      "this method is deprecated in favour of `Styler.to_html()`\n",
      "\n"
     ]
    }
   ],
   "source": [
    "figure_html = open('results.html', 'w')\n",
    "tracking_stocks = ['GMBREW']\n",
    "for symbol in tracking_stocks:\n",
    "    data = yf.download(symbol + \".NS\", start='2023-01-01', end=pd.to_datetime('today')+pd.DateOffset(1), progress=False)\n",
    "    \n",
    "    data['20DMA'] = data['Close'].rolling(window=20).mean()\n",
    "    data['50DMA']= data['Close'].rolling(window=50).mean()\n",
    "    data['100DMA']= data['Close'].rolling(window=100).mean()\n",
    "    \n",
    "    data['diff'] = data['Close'] - data['Open']\n",
    "    data.loc[data['diff'] >= 0, 'color'] = 'green'\n",
    "    data.loc[data['diff'] < 0, 'color'] = 'red'\n",
    "    \n",
    "    plot_data = data[data.index > (pd.to_datetime('today') - pd.DateOffset(days=240))]\n",
    "\n",
    "    figure = make_subplots(specs=[[{\"secondary_y\": True}]])\n",
    "    figure.add_trace(go.Candlestick(x = plot_data.index,\n",
    "                              open = plot_data['Open'],\n",
    "                              high = plot_data['High'],\n",
    "                              low = plot_data['Low'],\n",
    "                              close = plot_data['Close'],\n",
    "                              name='Price'))\n",
    "    # Adding Text Below\n",
    "    stock_row = stock_data.loc[symbol]\n",
    "    figure.add_annotation(dict(font=dict(color='black', size=16.5),\n",
    "        x=0.5,  # Center aligned horizontally\n",
    "        y=-0.12, showarrow=False,\n",
    "        text=\"SECTOR - \" + stock_row['SECTOR'] + \"  FNO - \" + str(bool(stock_row['FNO'])),\n",
    "        textangle=0,\n",
    "        xanchor='center',  # Center aligned horizontally\n",
    "        yanchor='bottom',  # Aligned to the bottom\n",
    "        xref=\"paper\", yref=\"paper\"))\n",
    "    \n",
    "    figure.add_trace(go.Scatter(x=plot_data.index, y=plot_data['20DMA'], marker_color='blue',name='20 Day MA'))\n",
    "    figure.add_trace(go.Scatter(x=plot_data.index, y=plot_data['50DMA'], marker_color='orange',name='50 Day MA'))\n",
    "    figure.add_trace(go.Scatter(x=plot_data.index, y=plot_data['100DMA'], marker_color='green',name='100 Day MA'))\n",
    "    figure.add_trace(go.Bar(x=plot_data.index, y=plot_data['Volume'], name='Volume', marker={'color':plot_data['color']}),secondary_y=True)\n",
    "    \n",
    "    figure.update_yaxes(range=[0, plot_data['Volume'].max()*5], secondary_y=True)\n",
    "    figure.update_yaxes(visible=False, secondary_y=True)\n",
    "    figure.update_layout(title={'text':symbol, 'x':0.5})\n",
    "    \n",
    "    figure.update_layout(xaxis_rangeslider_visible=False)  #hide range slider\n",
    "    figure.update_xaxes(rangebreaks = [ dict(bounds=['sat','mon']) ] ) # hide weekends \n",
    "    \n",
    "    # figure.show()\n",
    "     \n",
    "    html_table = df_reversed.style.set_table_styles([\n",
    "    {'selector': 'thead th', 'props': [('background-color', 'lightblue'), ('color', 'black'), ('text-align', 'center'), ('font-weight', 'bold')]},\n",
    "    {'selector': 'tbody td', 'props': [('text-align', 'center')]}]).render()\n",
    "    figure_html.write(html_table)\n",
    "    figure_html.write(figure.to_html(full_html=False))\n",
    "    \n",
    "    \n",
    "print('Execution Completed!!!!')"
   ]
  }
 ],
 "metadata": {
  "kernelspec": {
   "display_name": "Python 3 (ipykernel)",
   "language": "python",
   "name": "python3"
  },
  "language_info": {
   "codemirror_mode": {
    "name": "ipython",
    "version": 3
   },
   "file_extension": ".py",
   "mimetype": "text/x-python",
   "name": "python",
   "nbconvert_exporter": "python",
   "pygments_lexer": "ipython3",
   "version": "3.11.4"
  }
 },
 "nbformat": 4,
 "nbformat_minor": 5
}
