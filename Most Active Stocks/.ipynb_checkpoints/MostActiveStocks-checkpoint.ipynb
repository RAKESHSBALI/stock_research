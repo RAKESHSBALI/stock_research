{
 "cells": [
  {
   "cell_type": "markdown",
   "id": "e429c73f",
   "metadata": {},
   "source": [
    "### Import Libraries"
   ]
  },
  {
   "cell_type": "code",
   "execution_count": 1,
   "id": "619431e3",
   "metadata": {},
   "outputs": [],
   "source": [
    "from nsepython import *\n",
    "import pandas as pd\n",
    "import yfinance as yf\n",
    "import numpy as np\n",
    "from scipy.stats import iqr # For Finding Volume Outliers\n",
    "import math\n",
    "\n",
    "import plotly.graph_objects as go\n",
    "from plotly.subplots import make_subplots"
   ]
  },
  {
   "cell_type": "markdown",
   "id": "e7557654",
   "metadata": {},
   "source": [
    "Read the CSV file"
   ]
  },
  {
   "cell_type": "code",
   "execution_count": null,
   "id": "1886d948",
   "metadata": {},
   "outputs": [],
   "source": [
    "## Stock Symbols contains list of 1250 NSE stock symbols (Need to update it every quarter / year)\n",
    "\n",
    "stock_data = pd.read_csv('stock_data.csv')\n",
    "stock_data.set_index('SYMBOL', inplace=True)\n",
    "len(stock_data)"
   ]
  },
  {
   "cell_type": "code",
   "execution_count": null,
   "id": "2aa0d8a3",
   "metadata": {},
   "outputs": [],
   "source": [
    "\n",
    "value = nse_most_active(type=\"securities\",sort=\"value\")\n",
    "volume = nse_most_active(type=\"securities\",sort=\"volume\")"
   ]
  },
  {
   "cell_type": "code",
   "execution_count": null,
   "id": "1401d840",
   "metadata": {},
   "outputs": [],
   "source": []
  }
 ],
 "metadata": {
  "kernelspec": {
   "display_name": "Python 3 (ipykernel)",
   "language": "python",
   "name": "python3"
  },
  "language_info": {
   "codemirror_mode": {
    "name": "ipython",
    "version": 3
   },
   "file_extension": ".py",
   "mimetype": "text/x-python",
   "name": "python",
   "nbconvert_exporter": "python",
   "pygments_lexer": "ipython3",
   "version": "3.11.4"
  }
 },
 "nbformat": 4,
 "nbformat_minor": 5
}
