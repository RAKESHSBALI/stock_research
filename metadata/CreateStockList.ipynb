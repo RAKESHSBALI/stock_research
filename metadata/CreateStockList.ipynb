{
 "cells": [
  {
   "cell_type": "code",
   "execution_count": 1,
   "id": "a94fabde",
   "metadata": {},
   "outputs": [],
   "source": [
    "from nsepython import *\n",
    "import pandas as pd\n",
    "import numpy as np\n",
    "from scipy.stats import iqr"
   ]
  },
  {
   "cell_type": "markdown",
   "id": "a7d7a379",
   "metadata": {},
   "source": [
    "Fetch The Stock Symbols"
   ]
  },
  {
   "cell_type": "code",
   "execution_count": null,
   "id": "3a42c159",
   "metadata": {},
   "outputs": [],
   "source": [
    "stock_symbols = nse_eq_symbols()"
   ]
  },
  {
   "cell_type": "markdown",
   "id": "24905917",
   "metadata": {},
   "source": [
    "Filter The Stocks "
   ]
  },
  {
   "cell_type": "code",
   "execution_count": 2,
   "id": "32192cc8",
   "metadata": {},
   "outputs": [
    {
     "name": "stderr",
     "output_type": "stream",
     "text": [
      "/var/folders/y8/cj_f7jps7ylfv21xfzjbynm40000gn/T/ipykernel_34573/1309752576.py:17: FutureWarning: Behavior when concatenating bool-dtype and numeric-dtype arrays is deprecated; in a future version these will cast to object dtype (instead of coercing bools to numeric values). To retain the old behavior, explicitly cast bool-dtype arrays to numeric dtype.\n",
      "  stock_data = pd.concat([stock_data, new_stock], ignore_index=True)\n"
     ]
    },
    {
     "name": "stdout",
     "output_type": "stream",
     "text": [
      "{'info': {'symbol': 'MAPMYINDIA', 'companyName': 'C.E. Info Systems Limited', 'activeSeries': ['EQ'], 'debtSeries': [], 'tempSuspendedSeries': [], 'isFNOSec': False, 'isCASec': False, 'isSLBSec': True, 'isDebtSec': False, 'isSuspended': False, 'isETFSec': False, 'isDelisted': False, 'isin': 'INE0BV301023', 'isTop10': False, 'identifier': 'MAPMYINDIAEQN'}, 'metadata': {'series': 'EQ', 'symbol': 'MAPMYINDIA', 'isin': 'INE0BV301023', 'status': 'Listed', 'listingDate': '21-Dec-2021', 'industry': 'Software Products', 'lastUpdateTime': '29-Dec-2023 16:00:00', 'pdSectorPe': 85.58, 'pdSymbolPe': 85.58, 'pdSectorInd': None}, 'securityInfo': {'boardStatus': 'Main', 'tradingStatus': 'Active', 'tradingSegment': 'Normal Market', 'sessionNo': '-', 'slb': 'Yes', 'classOfShare': 'Equity', 'derivatives': 'No', 'surveillance': {'surv': None, 'desc': None}, 'faceValue': 2, 'issuedSize': 54048269}, 'sddDetails': {'SDDAuditor': '-', 'SDDStatus': '-'}, 'priceInfo': {'lastPrice': 1946, 'change': -16.34999999999991, 'pChange': -0.833184702015436, 'previousClose': 1962.35, 'open': 1972.65, 'close': 1945.2, 'vwap': 1950.14, 'lowerCP': '1569.90', 'upperCP': '2354.80', 'pPriceBand': '20', 'basePrice': 1962.35, 'intraDayHighLow': {'min': 1925.15, 'max': 1976.5, 'value': 1946}, 'weekHighLow': {'min': 984.05, 'minDate': '24-Apr-2023', 'max': 2343.95, 'maxDate': '17-Nov-2023', 'value': 1946}, 'iNavValue': None, 'checkINAV': False}, 'industryInfo': {'macro': 'Information Technology', 'sector': 'Information Technology', 'industry': 'IT - Software', 'basicIndustry': 'Software Products'}, 'preOpenMarket': {'preopen': [{'price': 1570, 'buyQty': 0, 'sellQty': 12}, {'price': 1766.15, 'buyQty': 0, 'sellQty': 93}, {'price': 1923.15, 'buyQty': 0, 'sellQty': 104}, {'price': 1950, 'buyQty': 0, 'sellQty': 23}, {'price': 1972, 'buyQty': 100, 'sellQty': 0}, {'price': 1972.65, 'buyQty': 0, 'sellQty': 0, 'iep': True}, {'price': 1983, 'buyQty': 25, 'sellQty': 0}, {'price': 2001, 'buyQty': 1, 'sellQty': 0}, {'price': 2050.7, 'buyQty': 7, 'sellQty': 0}], 'ato': {'buy': 524, 'sell': 67}, 'IEP': 1972.65, 'totalTradedVolume': 557, 'finalPrice': 1972.65, 'finalQuantity': 557, 'lastUpdateTime': '29-Dec-2023 09:07:40', 'totalBuyQuantity': 5796, 'totalSellQuantity': 11787, 'atoBuyQty': 524, 'atoSellQty': 67, 'Change': 10.300000000000182, 'perChange': 0.524880882615241, 'prevClose': 1962.35}}\n",
      "{'info': {'symbol': 'LGBBROSLTD', 'companyName': 'LG Balakrishnan & Bros Limited', 'industry': 'AUTO ANCILLARIES', 'activeSeries': ['EQ'], 'debtSeries': [], 'tempSuspendedSeries': [], 'isFNOSec': False, 'isCASec': False, 'isSLBSec': False, 'isDebtSec': False, 'isSuspended': False, 'isETFSec': False, 'isDelisted': False, 'isin': 'INE337A01034', 'isTop10': False, 'identifier': 'LGBBROSLTDEQN'}, 'metadata': {'series': 'EQ', 'symbol': 'LGBBROSLTD', 'isin': 'INE337A01034', 'status': 'Listed', 'listingDate': '30-Mar-2010', 'industry': 'Auto Components & Equipments', 'lastUpdateTime': '29-Dec-2023 16:00:00', 'pdSectorPe': 16.14, 'pdSymbolPe': 15.58, 'pdSectorInd': 'NIFTY METAL                                       '}, 'securityInfo': {'boardStatus': 'Main', 'tradingStatus': 'Active', 'tradingSegment': 'Normal Market', 'sessionNo': '-', 'slb': 'No', 'classOfShare': 'Equity', 'derivatives': 'No', 'surveillance': {'surv': None, 'desc': None}, 'faceValue': 10, 'issuedSize': 31392416}, 'sddDetails': {'SDDAuditor': '-', 'SDDStatus': '-'}, 'priceInfo': {'lastPrice': 1256, 'change': -22.450000000000045, 'pChange': -1.7560326958426253, 'previousClose': 1278.45, 'open': 1278.45, 'close': 1258.25, 'vwap': 1269.36, 'lowerCP': '1022.80', 'upperCP': '1534.10', 'pPriceBand': '20', 'basePrice': 1278.45, 'intraDayHighLow': {'min': 1251.7, 'max': 1289.55, 'value': 1256}, 'weekHighLow': {'min': 606.85, 'minDate': '12-Jan-2023', 'max': 1366, 'maxDate': '20-Dec-2023', 'value': 1256}, 'iNavValue': None, 'checkINAV': False}, 'industryInfo': {'macro': 'Consumer Discretionary', 'sector': 'Automobile and Auto Components', 'industry': 'Auto Components', 'basicIndustry': 'Auto Components & Equipments'}, 'preOpenMarket': {'preopen': [{'price': 1272.1, 'buyQty': 229, 'sellQty': 0}, {'price': 1275, 'buyQty': 11, 'sellQty': 0}, {'price': 1278, 'buyQty': 400, 'sellQty': 0}, {'price': 1278.45, 'buyQty': 0, 'sellQty': 8, 'iep': True}, {'price': 1280.1, 'buyQty': 25, 'sellQty': 0}, {'price': 1284.85, 'buyQty': 0, 'sellQty': 23}, {'price': 1285, 'buyQty': 0, 'sellQty': 25}, {'price': 1288.6, 'buyQty': 0, 'sellQty': 1}], 'ato': {'buy': 1, 'sell': 1}, 'IEP': 1278.45, 'totalTradedVolume': 9, 'finalPrice': 1278.45, 'finalQuantity': 9, 'lastUpdateTime': '29-Dec-2023 09:07:43', 'totalBuyQuantity': 7954, 'totalSellQuantity': 5379, 'atoBuyQty': 1, 'atoSellQty': 1, 'Change': 0, 'perChange': 0, 'prevClose': 1278.45}}\n"
     ]
    }
   ],
   "source": [
    "stock_data = pd.DataFrame({'SYMBOL':[], 'MARKET_CAP':[], 'INDUSTRY': [], 'SECTOR': [], 'MACRO':[], 'FNO':[]})\n",
    "file = pd.read_csv('stock_data.csv')\n",
    "\n",
    "for symbol in file['SYMBOL']:\n",
    "    try:\n",
    "        data = nse_eq(symbol)\n",
    "        market_cap = data.get('priceInfo').get('lastPrice') * data.get('securityInfo').get('issuedSize') / 10000000\n",
    "            \n",
    "        new_stock = pd.DataFrame({'SYMBOL': [data.get('info').get('symbol')], \n",
    "                                'MARKET_CAP':[round(market_cap)], \n",
    "                                'INDUSTRY': [data.get('industryInfo').get('industry')], \n",
    "                                'SECTOR': [data.get('industryInfo').get('sector')],\n",
    "                                'FNO': [(str(data.get('info').get('isFNOSec')) == '1.0' or \\\n",
    "                                           str(data.get('info').get('isFNOSec')) == 'True' or \\\n",
    "                                           str(data.get('info').get('isFNOSec')) == 'TRUE')],\n",
    "                                'MACRO':[data.get('industryInfo').get('macro')]})\n",
    "        stock_data = pd.concat([stock_data, new_stock], ignore_index=True)\n",
    "        print(f\"Added Stock :: ', {symbol})\n",
    "    except Exception as e:\n",
    "        print(f\"An error occurred: {symbol}, {str(e)}\")\n",
    "stock_data = stock_data.sort_values('MARKET_CAP', ascending=False)\n",
    "stock_data = stock_data.drop_duplicates()\n",
    "stock_data.set_index('SYMBOL', inplace=True)"
   ]
  },
  {
   "cell_type": "code",
   "execution_count": 3,
   "id": "171a66ec",
   "metadata": {},
   "outputs": [
    {
     "data": {
      "text/html": [
       "<div>\n",
       "<style scoped>\n",
       "    .dataframe tbody tr th:only-of-type {\n",
       "        vertical-align: middle;\n",
       "    }\n",
       "\n",
       "    .dataframe tbody tr th {\n",
       "        vertical-align: top;\n",
       "    }\n",
       "\n",
       "    .dataframe thead th {\n",
       "        text-align: right;\n",
       "    }\n",
       "</style>\n",
       "<table border=\"1\" class=\"dataframe\">\n",
       "  <thead>\n",
       "    <tr style=\"text-align: right;\">\n",
       "      <th></th>\n",
       "      <th>MARKET_CAP</th>\n",
       "      <th>INDUSTRY</th>\n",
       "      <th>SECTOR</th>\n",
       "      <th>MACRO</th>\n",
       "      <th>FNO</th>\n",
       "    </tr>\n",
       "    <tr>\n",
       "      <th>SYMBOL</th>\n",
       "      <th></th>\n",
       "      <th></th>\n",
       "      <th></th>\n",
       "      <th></th>\n",
       "      <th></th>\n",
       "    </tr>\n",
       "  </thead>\n",
       "  <tbody>\n",
       "    <tr>\n",
       "      <th>RELIANCE</th>\n",
       "      <td>1750283.0</td>\n",
       "      <td>Petroleum Products</td>\n",
       "      <td>Oil Gas &amp; Consumable Fuels</td>\n",
       "      <td>Energy</td>\n",
       "      <td>1.0</td>\n",
       "    </tr>\n",
       "    <tr>\n",
       "      <th>TCS</th>\n",
       "      <td>1374873.0</td>\n",
       "      <td>IT - Software</td>\n",
       "      <td>Information Technology</td>\n",
       "      <td>Information Technology</td>\n",
       "      <td>1.0</td>\n",
       "    </tr>\n",
       "    <tr>\n",
       "      <th>HDFCBANK</th>\n",
       "      <td>1297213.0</td>\n",
       "      <td>Banks</td>\n",
       "      <td>Financial Services</td>\n",
       "      <td>Financial Services</td>\n",
       "      <td>1.0</td>\n",
       "    </tr>\n",
       "    <tr>\n",
       "      <th>ICICIBANK</th>\n",
       "      <td>700333.0</td>\n",
       "      <td>Banks</td>\n",
       "      <td>Financial Services</td>\n",
       "      <td>Financial Services</td>\n",
       "      <td>1.0</td>\n",
       "    </tr>\n",
       "    <tr>\n",
       "      <th>INFY</th>\n",
       "      <td>640269.0</td>\n",
       "      <td>IT - Software</td>\n",
       "      <td>Information Technology</td>\n",
       "      <td>Information Technology</td>\n",
       "      <td>1.0</td>\n",
       "    </tr>\n",
       "  </tbody>\n",
       "</table>\n",
       "</div>"
      ],
      "text/plain": [
       "           MARKET_CAP            INDUSTRY                      SECTOR  \\\n",
       "SYMBOL                                                                  \n",
       "RELIANCE    1750283.0  Petroleum Products  Oil Gas & Consumable Fuels   \n",
       "TCS         1374873.0       IT - Software      Information Technology   \n",
       "HDFCBANK    1297213.0               Banks          Financial Services   \n",
       "ICICIBANK    700333.0               Banks          Financial Services   \n",
       "INFY         640269.0       IT - Software      Information Technology   \n",
       "\n",
       "                            MACRO  FNO  \n",
       "SYMBOL                                  \n",
       "RELIANCE                   Energy  1.0  \n",
       "TCS        Information Technology  1.0  \n",
       "HDFCBANK       Financial Services  1.0  \n",
       "ICICIBANK      Financial Services  1.0  \n",
       "INFY       Information Technology  1.0  "
      ]
     },
     "execution_count": 3,
     "metadata": {},
     "output_type": "execute_result"
    }
   ],
   "source": [
    "stock_data.head()"
   ]
  },
  {
   "cell_type": "code",
   "execution_count": 5,
   "id": "e2cdb98d",
   "metadata": {},
   "outputs": [],
   "source": [
    "stock_data.to_csv('stock_data.csv')"
   ]
  },
  {
   "cell_type": "code",
   "execution_count": null,
   "id": "b087c92f",
   "metadata": {},
   "outputs": [],
   "source": []
  }
 ],
 "metadata": {
  "kernelspec": {
   "display_name": "Python 3 (ipykernel)",
   "language": "python",
   "name": "python3"
  },
  "language_info": {
   "codemirror_mode": {
    "name": "ipython",
    "version": 3
   },
   "file_extension": ".py",
   "mimetype": "text/x-python",
   "name": "python",
   "nbconvert_exporter": "python",
   "pygments_lexer": "ipython3",
   "version": "3.11.4"
  }
 },
 "nbformat": 4,
 "nbformat_minor": 5
}
