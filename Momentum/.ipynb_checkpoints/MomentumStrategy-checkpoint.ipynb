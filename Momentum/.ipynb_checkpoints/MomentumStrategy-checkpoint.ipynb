{
 "cells": [
  {
   "cell_type": "markdown",
   "id": "e429c73f",
   "metadata": {},
   "source": [
    "### Import Libraries"
   ]
  },
  {
   "cell_type": "code",
   "execution_count": 1,
   "id": "619431e3",
   "metadata": {},
   "outputs": [],
   "source": [
    "import pandas as pd\n",
    "import yfinance as yf\n",
    "import numpy as np\n",
    "from scipy.stats import iqr # For Finding Volume Outliers\n",
    "\n",
    "import plotly.graph_objects as go\n",
    "from plotly.subplots import make_subplots"
   ]
  },
  {
   "cell_type": "markdown",
   "id": "e7557654",
   "metadata": {},
   "source": [
    "Read the CSV file"
   ]
  },
  {
   "cell_type": "code",
   "execution_count": 2,
   "id": "1886d948",
   "metadata": {},
   "outputs": [
    {
     "data": {
      "text/plain": [
       "1435"
      ]
     },
     "execution_count": 2,
     "metadata": {},
     "output_type": "execute_result"
    }
   ],
   "source": [
    "## Stock Symbols contains list of 1250 NSE stock symbols (Need to update it every quarter / year)\n",
    "\n",
    "stock_data = pd.read_csv('stock_data.csv')\n",
    "stock_data.set_index('SYMBOL', inplace=True)\n",
    "len(stock_data)"
   ]
  },
  {
   "cell_type": "code",
   "execution_count": null,
   "id": "b9611bb5",
   "metadata": {
    "scrolled": false
   },
   "outputs": [],
   "source": [
    "momentum_stocks = pd.DataFrame({'SYMBOL':[], '20EMA':[], '40EMA':[], '100EMA':[], '200EMA':[],\n",
    "                                'MARKET_CAP':[], 'INDUSTRY': [], 'SECTOR': [], 'MACRO':[], 'FNO':[]})\n",
    "\n",
    "for symbol in stock_data.index.values:\n",
    "    try:\n",
    "        stock = yf.download(symbol + \".NS\", start=(pd.to_datetime('today') - pd.DateOffset(days=365)), end=pd.to_datetime('today'), progress=False)\n",
    "        stock_length = len(stock['Close'])\n",
    "        \n",
    "        if stock_length > 100:\n",
    "            close_price = stock['Close'].dropna()\n",
    "            \n",
    "            ema_20 = close_price.ewm(span=20, adjust=False).mean()\n",
    "            ema_40 = close_price.ewm(span=40, adjust=False).mean()\n",
    "            ema_100 = close_price.ewm(span=100, adjust=False).mean()\n",
    "            ema_200 = close_price.ewm(span=200, adjust=False).mean()\n",
    "            \n",
    "            high = close_price.max()\n",
    "            \n",
    "            ## Logic\n",
    "            ## 1. Latest Close Price is not below 15% of 52 week high\n",
    "            ## 2. Latest Close Price is greater than 20 Day exponential moving average\n",
    "            ## 3. 20 Day ema greater than 40 Day ema\n",
    "            ## 4. 40 Day ema greater than 100 Day ema\n",
    "            ## 5. 100 Day ema greater than 200 Day ema\n",
    "            \n",
    "            if (close_price.iloc[-1] > 0.85 * high and\n",
    "                close_price.iloc[-1] > ema_20.iloc[-1] and\n",
    "                ema_20.iloc[-1] > ema_40.iloc[-1] and\n",
    "                ema_40.iloc[-1] > ema_100.iloc[-1] and\n",
    "                ema_100.iloc[-1] > ema_200.iloc[-1]):\n",
    "                \n",
    "                new_stock = pd.DataFrame({'SYMBOL': [symbol], \n",
    "                                          '20EMA':[ema_20.iloc[-1]], \n",
    "                                          '40EMA':[ema_40.iloc[-1]], \n",
    "                                          '100EMA':[ema_100.iloc[-1]], \n",
    "                                          '200EMA':[ema_200.iloc[-1]],\n",
    "                                          'MARKET_CAP':[stock_data.loc[symbol]['MARKET_CAP']], \n",
    "                                          'INDUSTRY': [stock_data.loc[symbol]['INDUSTRY']], \n",
    "                                          'SECTOR': [stock_data.loc[symbol]['SECTOR']], \n",
    "                                          'MACRO':[stock_data.loc[symbol]['MACRO']], \n",
    "                                          'FNO':[stock_data.loc[symbol]['FNO']]})\n",
    "                momentum_stocks = pd.concat([momentum_stocks, new_stock], ignore_index=True)\n",
    "                \n",
    "    except Exception as e:\n",
    "        print(f\"An error occurred: {symbol}, {str(e)}\")\n",
    "\n",
    "print(f\"Execution completed.\")"
   ]
  },
  {
   "cell_type": "code",
   "execution_count": 4,
   "id": "1c2f3465",
   "metadata": {},
   "outputs": [
    {
     "data": {
      "text/plain": [
       "810"
      ]
     },
     "execution_count": 4,
     "metadata": {},
     "output_type": "execute_result"
    }
   ],
   "source": [
    "momentum_stocks.shape[0]"
   ]
  },
  {
   "cell_type": "code",
   "execution_count": 5,
   "id": "100288ac",
   "metadata": {},
   "outputs": [
    {
     "name": "stdout",
     "output_type": "stream",
     "text": [
      "Execution completed.\n"
     ]
    }
   ],
   "source": [
    "momentum_high_volume_stocks = pd.DataFrame({'SYMBOL': [], 'FIRST_HIGH_VOLUME': [], \n",
    "                                            'LAST_HIGH_VOLUME': [], 'HIGH_VOL_COUNT': [],\n",
    "                                            '20EMA':[], '40EMA':[], '100EMA':[], '200EMA':[],\n",
    "                                            'MARKET_CAP':[], 'INDUSTRY': [], 'SECTOR': [], 'MACRO':[], 'FNO':[]})\n",
    "\n",
    "for index, row in momentum_stocks.iterrows():\n",
    "    stock = yf.download(row['SYMBOL'] + \".NS\", start=(pd.to_datetime('today') - pd.DateOffset(days=30)), end=pd.to_datetime('today'), progress=False)\n",
    "    iqr_stock = iqr(stock['Volume'])\n",
    "    volume_cutoff = np.quantile(stock['Volume'], 0.75) + 5 * iqr_stock ## To find Outliers\n",
    "    high_volume_stock = stock[stock['Volume'] > volume_cutoff]\n",
    "    \n",
    "    # convert this data into a row\n",
    "    if(high_volume_stock.size > 0):\n",
    "        new_stock = pd.DataFrame({'SYMBOL': [row['SYMBOL']], \n",
    "                                  'FIRST_HIGH_VOLUME': [high_volume_stock.index[0]], \n",
    "                                  'LAST_HIGH_VOLUME': [high_volume_stock.index[high_volume_stock.shape[0]-1]], \n",
    "                                  'HIGH_VOL_COUNT': [high_volume_stock.shape[0]],\n",
    "                                  '20EMA':[row['20EMA']],\n",
    "                                  '40EMA':[row['40EMA']],\n",
    "                                  '100EMA':[row['100EMA']],\n",
    "                                  '200EMA':[row['200EMA']],\n",
    "                                  'MARKET_CAP':[row['MARKET_CAP']], \n",
    "                                  'INDUSTRY': [row['INDUSTRY']], \n",
    "                                  'SECTOR': [row['SECTOR']], \n",
    "                                  'MACRO':[row['MACRO']], \n",
    "                                  'FNO':[row['FNO']]})\n",
    "        momentum_high_volume_stocks = pd.concat([momentum_high_volume_stocks, new_stock], ignore_index=True)\n",
    "print(f\"Execution completed with {momentum_high_volume_stocks.shape[0]} stocks\")"
   ]
  },
  {
   "cell_type": "code",
   "execution_count": 7,
   "id": "a0c912fb",
   "metadata": {},
   "outputs": [],
   "source": [
    "momentum_high_volume_stocks_reasonable_recent = momentum_high_volume_stocks[momentum_high_volume_stocks['LAST_HIGH_VOLUME'] > (pd.to_datetime('today') - pd.DateOffset(days=30))]\n",
    "momentum_high_volume_stocks_reasonable_recent = momentum_high_volume_stocks_reasonable_recent[\n",
    "    (momentum_high_volume_stocks_reasonable_recent['20EMA'] < 1.15 * momentum_high_volume_stocks_reasonable_recent['40EMA']) & \n",
    "    (momentum_high_volume_stocks_reasonable_recent['40EMA'] < 1.2 * momentum_high_volume_stocks_reasonable_recent['100EMA'])]\n",
    "momentum_high_volume_stocks_reasonable_recent = momentum_high_volume_stocks_reasonable_recent[\n",
    "    (momentum_high_volume_stocks_reasonable_recent['MARKET_CAP'] > 1000) &\n",
    "    (momentum_high_volume_stocks_reasonable_recent['MARKET_CAP'] < 100000)\n",
    "]"
   ]
  },
  {
   "cell_type": "code",
   "execution_count": 28,
   "id": "7d93e01b",
   "metadata": {},
   "outputs": [
    {
     "name": "stdout",
     "output_type": "stream",
     "text": [
      "Execution completed.\n"
     ]
    }
   ],
   "source": [
    "recent_momentum_high_volume_stocks = pd.DataFrame({'SYMBOL': [], 'FIRST_HIGH_VOLUME': [], \n",
    "                                            'LAST_HIGH_VOLUME': [], 'HIGH_VOL_COUNT': [],\n",
    "                                            '20EMA':[], '40EMA':[], '100EMA':[], '200EMA':[],\n",
    "                                            'MARKET_CAP':[], 'INDUSTRY': [], 'SECTOR': [], 'MACRO':[], 'FNO':[]})\n",
    "\n",
    "for index, row in momentum_stocks.iterrows():\n",
    "    stock = yf.download(row['SYMBOL'] + \".NS\", start=\"2023-06-01\", end=pd.to_datetime('today'), progress=False)\n",
    "    iqr_stock = iqr(stock['Volume'])\n",
    "    volume_cutoff = np.quantile(stock['Volume'], 0.75) + 5 * iqr_stock ## To find Outliers\n",
    "    high_volume_stock = stock[stock['Volume'] > volume_cutoff]\n",
    "    \n",
    "    # convert this data into a row\n",
    "    if(high_volume_stock.size > 0):\n",
    "        if(high_volume_stock.sort_values('Volume', ascending=False).index[0] > (pd.to_datetime('today') - pd.DateOffset(days=30))):\n",
    "            new_stock = pd.DataFrame({'SYMBOL': [row['SYMBOL']], \n",
    "                                  'FIRST_HIGH_VOLUME': [high_volume_stock.index[0]], \n",
    "                                  'LAST_HIGH_VOLUME': [high_volume_stock.index[high_volume_stock.shape[0]-1]], \n",
    "                                  'HIGH_VOL_COUNT': [high_volume_stock.shape[0]],\n",
    "                                  '20EMA':[row['20EMA']],\n",
    "                                  '40EMA':[row['40EMA']],\n",
    "                                  '100EMA':[row['100EMA']],\n",
    "                                  '200EMA':[row['200EMA']],\n",
    "                                  'MARKET_CAP':[row['MARKET_CAP']], \n",
    "                                  'INDUSTRY': [row['INDUSTRY']], \n",
    "                                  'SECTOR': [row['SECTOR']], \n",
    "                                  'MACRO':[row['MACRO']], \n",
    "                                  'FNO':[row['FNO']]})\n",
    "            recent_momentum_high_volume_stocks = pd.concat([recent_momentum_high_volume_stocks, new_stock], ignore_index=True)\n",
    "print(\"Execution completed.\")"
   ]
  },
  {
   "cell_type": "code",
   "execution_count": 10,
   "id": "40a540e9",
   "metadata": {},
   "outputs": [
    {
     "data": {
      "text/plain": [
       "array(['Information Technology', 'Financial Services',\n",
       "       'Telecommunication', 'Fast Moving Consumer Goods', 'Construction',\n",
       "       'Consumer Durables', 'Construction Materials', 'Healthcare',\n",
       "       'Power', 'Consumer Services', 'Automobile and Auto Components',\n",
       "       'Oil Gas & Consumable Fuels', 'Services', 'Metals & Mining',\n",
       "       'Capital Goods', 'Realty', 'Chemicals', 'Diversified',\n",
       "       'Media Entertainment & Publication', 'Forest Materials',\n",
       "       'Textiles', 'Utilities'], dtype=object)"
      ]
     },
     "execution_count": 10,
     "metadata": {},
     "output_type": "execute_result"
    }
   ],
   "source": [
    "momentum_stocks['SECTOR'].unique()"
   ]
  },
  {
   "cell_type": "code",
   "execution_count": 67,
   "id": "69ec01ef",
   "metadata": {
    "scrolled": true
   },
   "outputs": [
    {
     "name": "stdout",
     "output_type": "stream",
     "text": [
      "Execution Completed!!!!\n"
     ]
    }
   ],
   "source": [
    "# Plot Recent Momentum High Volume Stocks\n",
    "\n",
    "## Actual Code Begins Here\n",
    "\n",
    "# plot_symbols = recent_momentum_high_volume_stocks.iloc[150:200]['SYMBOL'].values\n",
    "# plot_symbols = momentum_stocks[momentum_stocks['SECTOR'] == 'Healthcare']['SYMBOL'].values\n",
    "\n",
    "plot_symbols = momentum_stocks.iloc[0:50]\n",
    "\n",
    "figure_html = open('figure_html.html', 'w')\n",
    "\n",
    "for symbol in plot_symbols:\n",
    "    data = yf.download(symbol + \".NS\", start='2023-01-01', end=pd.to_datetime('today')+pd.DateOffset(1), progress=False)\n",
    "    \n",
    "    data['20DMA'] = data['Close'].rolling(window=20).mean()\n",
    "    data['40DMA']= data['Close'].rolling(window=40).mean()\n",
    "    data['100DMA']= data['Close'].rolling(window=100).mean()\n",
    "    \n",
    "    data['diff'] = data['Close'] - data['Open']\n",
    "    data.loc[data['diff'] >= 0, 'color'] = 'green'\n",
    "    data.loc[data['diff'] < 0, 'color'] = 'red'\n",
    "    \n",
    "    plot_data = data[data.index > (pd.to_datetime('today') - pd.DateOffset(days=240))]\n",
    "\n",
    "    figure = make_subplots(specs=[[{\"secondary_y\": True}]])\n",
    "    figure.add_trace(go.Candlestick(x = plot_data.index,\n",
    "                              open = plot_data['Open'],\n",
    "                              high = plot_data['High'],\n",
    "                              low = plot_data['Low'],\n",
    "                              close = plot_data['Close'],\n",
    "                              name='Price'))\n",
    "    # Adding Text Below\n",
    "    stock_row = stock_data.loc[symbol]\n",
    "    figure.add_annotation(dict(font=dict(color='black', size=16.5),\n",
    "        x=0.5,  # Center aligned horizontally\n",
    "        y=-0.12, showarrow=False,\n",
    "        text=\"SECTOR - \" + stock_row['SECTOR'] + \"  FNO - \" + str(bool(stock_row['FNO'])),\n",
    "        textangle=0,\n",
    "        xanchor='center',  # Center aligned horizontally\n",
    "        yanchor='bottom',  # Aligned to the bottom\n",
    "        xref=\"paper\", yref=\"paper\"))\n",
    "    \n",
    "    figure.add_trace(go.Scatter(x=plot_data.index, y=plot_data['20DMA'], marker_color='blue',name='20 Day MA'))\n",
    "    figure.add_trace(go.Scatter(x=plot_data.index, y=plot_data['40DMA'], marker_color='orange',name='40 Day MA'))\n",
    "    figure.add_trace(go.Scatter(x=plot_data.index, y=plot_data['100DMA'], marker_color='green',name='100 Day MA'))\n",
    "    figure.add_trace(go.Bar(x=plot_data.index, y=plot_data['Volume'], name='Volume', marker={'color':plot_data['color']}),secondary_y=True)\n",
    "    \n",
    "    figure.update_yaxes(range=[0, plot_data['Volume'].max()*5], secondary_y=True)\n",
    "    figure.update_yaxes(visible=False, secondary_y=True)\n",
    "    figure.update_layout(title={'text':symbol, 'x':0.5})\n",
    "    \n",
    "    figure.update_layout(xaxis_rangeslider_visible=False)  #hide range slider\n",
    "    figure.update_xaxes(rangebreaks = [ dict(bounds=['sat','mon']) ] ) # hide weekends \n",
    "    \n",
    "    # figure.show()\n",
    "    figure_html.write(figure.to_html(full_html=False))\n",
    "print('Execution Completed!!!!')"
   ]
  }
 ],
 "metadata": {
  "kernelspec": {
   "display_name": "Python 3 (ipykernel)",
   "language": "python",
   "name": "python3"
  },
  "language_info": {
   "codemirror_mode": {
    "name": "ipython",
    "version": 3
   },
   "file_extension": ".py",
   "mimetype": "text/x-python",
   "name": "python",
   "nbconvert_exporter": "python",
   "pygments_lexer": "ipython3",
   "version": "3.11.4"
  }
 },
 "nbformat": 4,
 "nbformat_minor": 5
}
