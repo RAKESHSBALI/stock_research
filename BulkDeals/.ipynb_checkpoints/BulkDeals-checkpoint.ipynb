{
 "cells": [
  {
   "cell_type": "code",
   "execution_count": 1,
   "id": "ba2a5bb7",
   "metadata": {},
   "outputs": [],
   "source": [
    "import pandas as pd\n",
    "import yfinance as yf\n",
    "import numpy as np\n",
    "from scipy.stats import iqr # For Finding Volume Outliers\n",
    "\n",
    "import plotly.graph_objects as go\n",
    "from plotly.subplots import make_subplots\n",
    "\n",
    "from nsepython import *"
   ]
  },
  {
   "cell_type": "code",
   "execution_count": 2,
   "id": "a8b7de21",
   "metadata": {},
   "outputs": [
    {
     "data": {
      "text/plain": [
       "1435"
      ]
     },
     "execution_count": 2,
     "metadata": {},
     "output_type": "execute_result"
    }
   ],
   "source": [
    "## Stock Symbols contains list of 1250 NSE stock symbols (Need to update it every quarter / year)\n",
    "\n",
    "stock_data = pd.read_csv('stock_data.csv')\n",
    "stock_data.set_index('SYMBOL', inplace=True)\n",
    "len(stock_data)"
   ]
  },
  {
   "cell_type": "code",
   "execution_count": 4,
   "id": "aeaecb85",
   "metadata": {},
   "outputs": [],
   "source": [
    "# Fetch Previous Bulk Deals from the Bulk Deals file\n",
    "bulk_deals = pd.read_csv('Bulk_Deals.csv')\n",
    "bulk_deals.set_index('SYMBOL', inplace=True)"
   ]
  },
  {
   "cell_type": "code",
   "execution_count": 5,
   "id": "f087176e",
   "metadata": {},
   "outputs": [
    {
     "name": "stdout",
     "output_type": "stream",
     "text": [
      "{'data': [{'_id': '6596a97b8bc6e5de3cccf29c', 'BD_DT_DATE': '04-JAN-2024', 'BD_SYMBOL': 'ADORWELD', 'BD_SCRIP_NAME': 'Ador Welding Limited', 'BD_CLIENT_NAME': 'GRAVITON RESEARCH CAPITAL LLP', 'BD_BUY_SELL': 'BUY', 'BD_QTY_TRD': 100395, 'BD_TP_WATP': 1675.65, 'BD_REMARKS': '-', 'TIMESTAMP': '2024-01-03T18:30:00.000Z', 'createdAt': '2024-01-04T12:50:03.182Z', 'updatedAt': '2024-01-04T12:50:03.182Z', '__v': 0, 'mTIMESTAMP': '04-Jan-2024'}, {'_id': '6596a97b8bc6e5de3cccf2f9', 'BD_DT_DATE': '04-JAN-2024', 'BD_SYMBOL': 'ADORWELD', 'BD_SCRIP_NAME': 'Ador Welding Limited', 'BD_CLIENT_NAME': 'GRAVITON RESEARCH CAPITAL LLP', 'BD_BUY_SELL': 'SELL', 'BD_QTY_TRD': 100395, 'BD_TP_WATP': 1673.8, 'BD_REMARKS': '-', 'TIMESTAMP': '2024-01-03T18:30:00.000Z', 'createdAt': '2024-01-04T12:50:03.271Z', 'updatedAt': '2024-01-04T12:50:03.271Z', '__v': 0, 'mTIMESTAMP': '04-Jan-2024'}, {'_id': '6596a97b8bc6e5de3cccf2fa', 'BD_DT_DATE': '04-JAN-2024', 'BD_SYMBOL': 'AKG', 'BD_SCRIP_NAME': 'AKG Exim Limited', 'BD_CLIENT_NAME': 'KAPIL AGGARWAL', 'BD_BUY_SELL': 'SELL', 'BD_QTY_TRD': 204000, 'BD_TP_WATP': 24.26, 'BD_REMARKS': '-', 'TIMESTAMP': '2024-01-03T18:30:00.000Z', 'createdAt': '2024-01-04T12:50:03.269Z', 'updatedAt': '2024-01-04T12:50:03.269Z', '__v': 0, 'mTIMESTAMP': '04-Jan-2024'}, {'_id': '6596a97b8bc6e5de3cccf29d', 'BD_DT_DATE': '04-JAN-2024', 'BD_SYMBOL': 'AKSHAR', 'BD_SCRIP_NAME': 'Akshar Spintex Limited', 'BD_CLIENT_NAME': 'MULTIPLIER SHARE & STOCK ADVISORS PRIVATE LIMITED', 'BD_BUY_SELL': 'BUY', 'BD_QTY_TRD': 2400000, 'BD_TP_WATP': 4.4, 'BD_REMARKS': '-', 'TIMESTAMP': '2024-01-03T18:30:00.000Z', 'createdAt': '2024-01-04T12:50:03.184Z', 'updatedAt': '2024-01-04T12:50:03.184Z', '__v': 0, 'mTIMESTAMP': '04-Jan-2024'}, {'_id': '6596a97b8bc6e5de3cccf2fb', 'BD_DT_DATE': '04-JAN-2024', 'BD_SYMBOL': 'AKSHAR', 'BD_SCRIP_NAME': 'Akshar Spintex Limited', 'BD_CLIENT_NAME': 'NIKHIL RAJESH SINGH', 'BD_BUY_SELL': 'SELL', 'BD_QTY_TRD': 1287974, 'BD_TP_WATP': 4.4, 'BD_REMARKS': '-', 'TIMESTAMP': '2024-01-03T18:30:00.000Z', 'createdAt': '2024-01-04T12:50:03.273Z', 'updatedAt': '2024-01-04T12:50:03.273Z', '__v': 0, 'mTIMESTAMP': '04-Jan-2024'}, {'_id': '6596a97b8bc6e5de3cccf29e', 'BD_DT_DATE': '04-JAN-2024', 'BD_SYMBOL': 'AKSHAR', 'BD_SCRIP_NAME': 'Akshar Spintex Limited', 'BD_CLIENT_NAME': 'SAHASTRAA ADVISORS PRIVATE LIMITED', 'BD_BUY_SELL': 'BUY', 'BD_QTY_TRD': 1500000, 'BD_TP_WATP': 4.4, 'BD_REMARKS': '-', 'TIMESTAMP': '2024-01-03T18:30:00.000Z', 'createdAt': '2024-01-04T12:50:03.183Z', 'updatedAt': '2024-01-04T12:50:03.183Z', '__v': 0, 'mTIMESTAMP': '04-Jan-2024'}, {'_id': '6596a97b8bc6e5de3cccf29f', 'BD_DT_DATE': '04-JAN-2024', 'BD_SYMBOL': 'ATL', 'BD_SCRIP_NAME': 'Allcargo Terminals Ltd', 'BD_CLIENT_NAME': 'GRAVITON RESEARCH CAPITAL LLP', 'BD_BUY_SELL': 'BUY', 'BD_QTY_TRD': 2320069, 'BD_TP_WATP': 67.65, 'BD_REMARKS': '-', 'TIMESTAMP': '2024-01-03T18:30:00.000Z', 'createdAt': '2024-01-04T12:50:03.182Z', 'updatedAt': '2024-01-04T12:50:03.182Z', '__v': 0, 'mTIMESTAMP': '04-Jan-2024'}, {'_id': '6596a97b8bc6e5de3cccf2fc', 'BD_DT_DATE': '04-JAN-2024', 'BD_SYMBOL': 'ATL', 'BD_SCRIP_NAME': 'Allcargo Terminals Ltd', 'BD_CLIENT_NAME': 'GRAVITON RESEARCH CAPITAL LLP', 'BD_BUY_SELL': 'SELL', 'BD_QTY_TRD': 2319967, 'BD_TP_WATP': 67.5, 'BD_REMARKS': '-', 'TIMESTAMP': '2024-01-03T18:30:00.000Z', 'createdAt': '2024-01-04T12:50:03.273Z', 'updatedAt': '2024-01-04T12:50:03.273Z', '__v': 0, 'mTIMESTAMP': '04-Jan-2024'}, {'_id': '6596a97b8bc6e5de3cccf2a1', 'BD_DT_DATE': '04-JAN-2024', 'BD_SYMBOL': 'BANKA', 'BD_SCRIP_NAME': 'Banka BioLoo Limited', 'BD_CLIENT_NAME': 'MANSI SHARE AND STOCK ADVISORS PVT LTD', 'BD_BUY_SELL': 'BUY', 'BD_QTY_TRD': 2, 'BD_TP_WATP': 134.2, 'BD_REMARKS': '-', 'TIMESTAMP': '2024-01-03T18:30:00.000Z', 'createdAt': '2024-01-04T12:50:03.185Z', 'updatedAt': '2024-01-04T12:50:03.185Z', '__v': 0, 'mTIMESTAMP': '04-Jan-2024'}, {'_id': '6596a97b8bc6e5de3cccf2fd', 'BD_DT_DATE': '04-JAN-2024', 'BD_SYMBOL': 'BANKA', 'BD_SCRIP_NAME': 'Banka BioLoo Limited', 'BD_CLIENT_NAME': 'MANSI SHARE AND STOCK ADVISORS PVT LTD', 'BD_BUY_SELL': 'SELL', 'BD_QTY_TRD': 78087, 'BD_TP_WATP': 141.07, 'BD_REMARKS': '-', 'TIMESTAMP': '2024-01-03T18:30:00.000Z', 'createdAt': '2024-01-04T12:50:03.268Z', 'updatedAt': '2024-01-04T12:50:03.268Z', '__v': 0, 'mTIMESTAMP': '04-Jan-2024'}, {'_id': '6596a97b8bc6e5de3cccf2a0', 'BD_DT_DATE': '04-JAN-2024', 'BD_SYMBOL': 'BANKA', 'BD_SCRIP_NAME': 'Banka BioLoo Limited', 'BD_CLIENT_NAME': 'MUDUPULAVEMULA SURENDRANADHA REDDY', 'BD_BUY_SELL': 'BUY', 'BD_QTY_TRD': 141613, 'BD_TP_WATP': 135.99, 'BD_REMARKS': '-', 'TIMESTAMP': '2024-01-03T18:30:00.000Z', 'createdAt': '2024-01-04T12:50:03.186Z', 'updatedAt': '2024-01-04T12:50:03.186Z', '__v': 0, 'mTIMESTAMP': '04-Jan-2024'}, {'_id': '6596a97b8bc6e5de3cccf2fe', 'BD_DT_DATE': '04-JAN-2024', 'BD_SYMBOL': 'BANKA', 'BD_SCRIP_NAME': 'Banka BioLoo Limited', 'BD_CLIENT_NAME': 'MUDUPULAVEMULA SURENDRANADHA REDDY', 'BD_BUY_SELL': 'SELL', 'BD_QTY_TRD': 141613, 'BD_TP_WATP': 137.1, 'BD_REMARKS': '-', 'TIMESTAMP': '2024-01-03T18:30:00.000Z', 'createdAt': '2024-01-04T12:50:03.275Z', 'updatedAt': '2024-01-04T12:50:03.275Z', '__v': 0, 'mTIMESTAMP': '04-Jan-2024'}, {'_id': '6596a97b8bc6e5de3cccf2a2', 'BD_DT_DATE': '04-JAN-2024', 'BD_SYMBOL': 'BRNL', 'BD_SCRIP_NAME': 'Bharat Road Network Ltd', 'BD_CLIENT_NAME': 'GRAVITON RESEARCH CAPITAL LLP', 'BD_BUY_SELL': 'BUY', 'BD_QTY_TRD': 948954, 'BD_TP_WATP': 64.98, 'BD_REMARKS': '-', 'TIMESTAMP': '2024-01-03T18:30:00.000Z', 'createdAt': '2024-01-04T12:50:03.189Z', 'updatedAt': '2024-01-04T12:50:03.189Z', '__v': 0, 'mTIMESTAMP': '04-Jan-2024'}, {'_id': '6596a97b8bc6e5de3cccf2ff', 'BD_DT_DATE': '04-JAN-2024', 'BD_SYMBOL': 'BRNL', 'BD_SCRIP_NAME': 'Bharat Road Network Ltd', 'BD_CLIENT_NAME': 'GRAVITON RESEARCH CAPITAL LLP', 'BD_BUY_SELL': 'SELL', 'BD_QTY_TRD': 948954, 'BD_TP_WATP': 65, 'BD_REMARKS': '-', 'TIMESTAMP': '2024-01-03T18:30:00.000Z', 'createdAt': '2024-01-04T12:50:03.269Z', 'updatedAt': '2024-01-04T12:50:03.269Z', '__v': 0, 'mTIMESTAMP': '04-Jan-2024'}, {'_id': '6596a97b8bc6e5de3cccf2a3', 'BD_DT_DATE': '04-JAN-2024', 'BD_SYMBOL': 'CAPACITE', 'BD_SCRIP_NAME': 'Capacite Infraproject Ltd', 'BD_CLIENT_NAME': 'GRAVITON RESEARCH CAPITAL LLP', 'BD_BUY_SELL': 'BUY', 'BD_QTY_TRD': 398344, 'BD_TP_WATP': 280.33, 'BD_REMARKS': '-', 'TIMESTAMP': '2024-01-03T18:30:00.000Z', 'createdAt': '2024-01-04T12:50:03.181Z', 'updatedAt': '2024-01-04T12:50:03.181Z', '__v': 0, 'mTIMESTAMP': '04-Jan-2024'}, {'_id': '6596a97b8bc6e5de3cccf300', 'BD_DT_DATE': '04-JAN-2024', 'BD_SYMBOL': 'CAPACITE', 'BD_SCRIP_NAME': 'Capacite Infraproject Ltd', 'BD_CLIENT_NAME': 'GRAVITON RESEARCH CAPITAL LLP', 'BD_BUY_SELL': 'SELL', 'BD_QTY_TRD': 398344, 'BD_TP_WATP': 280.67, 'BD_REMARKS': '-', 'TIMESTAMP': '2024-01-03T18:30:00.000Z', 'createdAt': '2024-01-04T12:50:03.278Z', 'updatedAt': '2024-01-04T12:50:03.278Z', '__v': 0, 'mTIMESTAMP': '04-Jan-2024'}, {'_id': '6596a97b8bc6e5de3cccf2a4', 'BD_DT_DATE': '04-JAN-2024', 'BD_SYMBOL': 'CBAZAAR', 'BD_SCRIP_NAME': 'Net Avenue Technologies L', 'BD_CLIENT_NAME': 'LATIN MANHARLAL SECURITIES PVT. LTD.', 'BD_BUY_SELL': 'BUY', 'BD_QTY_TRD': 24000, 'BD_TP_WATP': 29.67, 'BD_REMARKS': '-', 'TIMESTAMP': '2024-01-03T18:30:00.000Z', 'createdAt': '2024-01-04T12:50:03.185Z', 'updatedAt': '2024-01-04T12:50:03.185Z', '__v': 0, 'mTIMESTAMP': '04-Jan-2024'}, {'_id': '6596a97b8bc6e5de3cccf301', 'BD_DT_DATE': '04-JAN-2024', 'BD_SYMBOL': 'CBAZAAR', 'BD_SCRIP_NAME': 'Net Avenue Technologies L', 'BD_CLIENT_NAME': 'LATIN MANHARLAL SECURITIES PVT. LTD.', 'BD_BUY_SELL': 'SELL', 'BD_QTY_TRD': 112000, 'BD_TP_WATP': 31.87, 'BD_REMARKS': '-', 'TIMESTAMP': '2024-01-03T18:30:00.000Z', 'createdAt': '2024-01-04T12:50:03.279Z', 'updatedAt': '2024-01-04T12:50:03.279Z', '__v': 0, 'mTIMESTAMP': '04-Jan-2024'}, {'_id': '6596a97b8bc6e5de3cccf2a5', 'BD_DT_DATE': '04-JAN-2024', 'BD_SYMBOL': 'COASTCORP', 'BD_SCRIP_NAME': 'Coastal Corporation Ltd', 'BD_CLIENT_NAME': 'GRAVITON RESEARCH CAPITAL LLP', 'BD_BUY_SELL': 'BUY', 'BD_QTY_TRD': 107797, 'BD_TP_WATP': 318.52, 'BD_REMARKS': '-', 'TIMESTAMP': '2024-01-03T18:30:00.000Z', 'createdAt': '2024-01-04T12:50:03.188Z', 'updatedAt': '2024-01-04T12:50:03.188Z', '__v': 0, 'mTIMESTAMP': '04-Jan-2024'}, {'_id': '6596a97b8bc6e5de3cccf302', 'BD_DT_DATE': '04-JAN-2024', 'BD_SYMBOL': 'COASTCORP', 'BD_SCRIP_NAME': 'Coastal Corporation Ltd', 'BD_CLIENT_NAME': 'GRAVITON RESEARCH CAPITAL LLP', 'BD_BUY_SELL': 'SELL', 'BD_QTY_TRD': 107797, 'BD_TP_WATP': 318.57, 'BD_REMARKS': '-', 'TIMESTAMP': '2024-01-03T18:30:00.000Z', 'createdAt': '2024-01-04T12:50:03.279Z', 'updatedAt': '2024-01-04T12:50:03.279Z', '__v': 0, 'mTIMESTAMP': '04-Jan-2024'}, {'_id': '6596a97b8bc6e5de3cccf2a6', 'BD_DT_DATE': '04-JAN-2024', 'BD_SYMBOL': 'DIL', 'BD_SCRIP_NAME': 'Debock Industries Limited', 'BD_CLIENT_NAME': 'MULTIPLIER SHARE & STOCK ADVISORS PRIVATE LIMITED', 'BD_BUY_SELL': 'BUY', 'BD_QTY_TRD': 2025000, 'BD_TP_WATP': 10.93, 'BD_REMARKS': '-', 'TIMESTAMP': '2024-01-03T18:30:00.000Z', 'createdAt': '2024-01-04T12:50:03.182Z', 'updatedAt': '2024-01-04T12:50:03.182Z', '__v': 0, 'mTIMESTAMP': '04-Jan-2024'}, {'_id': '6596a97b8bc6e5de3cccf303', 'BD_DT_DATE': '04-JAN-2024', 'BD_SYMBOL': 'DIL', 'BD_SCRIP_NAME': 'Debock Industries Limited', 'BD_CLIENT_NAME': 'MULTIPLIER SHARE & STOCK ADVISORS PRIVATE LIMITED', 'BD_BUY_SELL': 'SELL', 'BD_QTY_TRD': 1027065, 'BD_TP_WATP': 10.9, 'BD_REMARKS': '-', 'TIMESTAMP': '2024-01-03T18:30:00.000Z', 'createdAt': '2024-01-04T12:50:03.280Z', 'updatedAt': '2024-01-04T12:50:03.280Z', '__v': 0, 'mTIMESTAMP': '04-Jan-2024'}, {'_id': '6596a97b8bc6e5de3cccf304', 'BD_DT_DATE': '04-JAN-2024', 'BD_SYMBOL': 'DIL', 'BD_SCRIP_NAME': 'Debock Industries Limited', 'BD_CLIENT_NAME': 'SUNIL  KALOT', 'BD_BUY_SELL': 'SELL', 'BD_QTY_TRD': 3603504, 'BD_TP_WATP': 10.96, 'BD_REMARKS': '-', 'TIMESTAMP': '2024-01-03T18:30:00.000Z', 'createdAt': '2024-01-04T12:50:03.282Z', 'updatedAt': '2024-01-04T12:50:03.282Z', '__v': 0, 'mTIMESTAMP': '04-Jan-2024'}, {'_id': '6596a97b8bc6e5de3cccf2a7', 'BD_DT_DATE': '04-JAN-2024', 'BD_SYMBOL': 'FCSSOFT', 'BD_SCRIP_NAME': 'FCS Software Solutions Li', 'BD_CLIENT_NAME': 'ANKITA VISHAL SHAH', 'BD_BUY_SELL': 'BUY', 'BD_QTY_TRD': 19875153, 'BD_TP_WATP': 4.59, 'BD_REMARKS': '-', 'TIMESTAMP': '2024-01-03T18:30:00.000Z', 'createdAt': '2024-01-04T12:50:03.186Z', 'updatedAt': '2024-01-04T12:50:03.186Z', '__v': 0, 'mTIMESTAMP': '04-Jan-2024'}, {'_id': '6596a97b8bc6e5de3cccf305', 'BD_DT_DATE': '04-JAN-2024', 'BD_SYMBOL': 'FCSSOFT', 'BD_SCRIP_NAME': 'FCS Software Solutions Li', 'BD_CLIENT_NAME': 'ANKITA VISHAL SHAH', 'BD_BUY_SELL': 'SELL', 'BD_QTY_TRD': 12675153, 'BD_TP_WATP': 4.62, 'BD_REMARKS': '-', 'TIMESTAMP': '2024-01-03T18:30:00.000Z', 'createdAt': '2024-01-04T12:50:03.276Z', 'updatedAt': '2024-01-04T12:50:03.276Z', '__v': 0, 'mTIMESTAMP': '04-Jan-2024'}, {'_id': '6596a97b8bc6e5de3cccf2a8', 'BD_DT_DATE': '04-JAN-2024', 'BD_SYMBOL': 'GMBREW', 'BD_SCRIP_NAME': 'GM Breweries Ltd.', 'BD_CLIENT_NAME': 'GRAVITON RESEARCH CAPITAL LLP', 'BD_BUY_SELL': 'BUY', 'BD_QTY_TRD': 92601, 'BD_TP_WATP': 680.31, 'BD_REMARKS': '-', 'TIMESTAMP': '2024-01-03T18:30:00.000Z', 'createdAt': '2024-01-04T12:50:03.184Z', 'updatedAt': '2024-01-04T12:50:03.184Z', '__v': 0, 'mTIMESTAMP': '04-Jan-2024'}, {'_id': '6596a97b8bc6e5de3cccf306', 'BD_DT_DATE': '04-JAN-2024', 'BD_SYMBOL': 'GMBREW', 'BD_SCRIP_NAME': 'GM Breweries Ltd.', 'BD_CLIENT_NAME': 'GRAVITON RESEARCH CAPITAL LLP', 'BD_BUY_SELL': 'SELL', 'BD_QTY_TRD': 92601, 'BD_TP_WATP': 680.59, 'BD_REMARKS': '-', 'TIMESTAMP': '2024-01-03T18:30:00.000Z', 'createdAt': '2024-01-04T12:50:03.282Z', 'updatedAt': '2024-01-04T12:50:03.282Z', '__v': 0, 'mTIMESTAMP': '04-Jan-2024'}, {'_id': '6596a97b8bc6e5de3cccf307', 'BD_DT_DATE': '04-JAN-2024', 'BD_SYMBOL': 'GODHA', 'BD_SCRIP_NAME': 'Godha Cabcon Insulat Ltd', 'BD_CLIENT_NAME': 'SAHASTRAA ADVISORS PRIVATE LIMITED', 'BD_BUY_SELL': 'SELL', 'BD_QTY_TRD': 4379028, 'BD_TP_WATP': 0.65, 'BD_REMARKS': '-', 'TIMESTAMP': '2024-01-03T18:30:00.000Z', 'createdAt': '2024-01-04T12:50:03.277Z', 'updatedAt': '2024-01-04T12:50:03.277Z', '__v': 0, 'mTIMESTAMP': '04-Jan-2024'}, {'_id': '6596a97b8bc6e5de3cccf2a9', 'BD_DT_DATE': '04-JAN-2024', 'BD_SYMBOL': 'GTL', 'BD_SCRIP_NAME': 'GTL Limited', 'BD_CLIENT_NAME': 'MANSI SHARE AND STOCK ADVISORS PVT LTD', 'BD_BUY_SELL': 'BUY', 'BD_QTY_TRD': 1000000, 'BD_TP_WATP': 15.4, 'BD_REMARKS': '-', 'TIMESTAMP': '2024-01-03T18:30:00.000Z', 'createdAt': '2024-01-04T12:50:03.188Z', 'updatedAt': '2024-01-04T12:50:03.188Z', '__v': 0, 'mTIMESTAMP': '04-Jan-2024'}, {'_id': '6596a97b8bc6e5de3cccf308', 'BD_DT_DATE': '04-JAN-2024', 'BD_SYMBOL': 'GTL', 'BD_SCRIP_NAME': 'GTL Limited', 'BD_CLIENT_NAME': 'MANSI SHARE AND STOCK ADVISORS PVT LTD', 'BD_BUY_SELL': 'SELL', 'BD_QTY_TRD': 254252, 'BD_TP_WATP': 14.9, 'BD_REMARKS': '-', 'TIMESTAMP': '2024-01-03T18:30:00.000Z', 'createdAt': '2024-01-04T12:50:03.285Z', 'updatedAt': '2024-01-04T12:50:03.285Z', '__v': 0, 'mTIMESTAMP': '04-Jan-2024'}, {'_id': '6596a97b8bc6e5de3cccf2aa', 'BD_DT_DATE': '04-JAN-2024', 'BD_SYMBOL': 'HCC', 'BD_SCRIP_NAME': 'Hindustan Construc Co.', 'BD_CLIENT_NAME': 'HRTI PRIVATE LIMITED', 'BD_BUY_SELL': 'BUY', 'BD_QTY_TRD': 7037980, 'BD_TP_WATP': 30.73, 'BD_REMARKS': '-', 'TIMESTAMP': '2024-01-03T18:30:00.000Z', 'createdAt': '2024-01-04T12:50:03.183Z', 'updatedAt': '2024-01-04T12:50:03.183Z', '__v': 0, 'mTIMESTAMP': '04-Jan-2024'}, {'_id': '6596a97b8bc6e5de3cccf309', 'BD_DT_DATE': '04-JAN-2024', 'BD_SYMBOL': 'HCC', 'BD_SCRIP_NAME': 'Hindustan Construc Co.', 'BD_CLIENT_NAME': 'HRTI PRIVATE LIMITED', 'BD_BUY_SELL': 'SELL', 'BD_QTY_TRD': 8012279, 'BD_TP_WATP': 30.72, 'BD_REMARKS': '-', 'TIMESTAMP': '2024-01-03T18:30:00.000Z', 'createdAt': '2024-01-04T12:50:03.278Z', 'updatedAt': '2024-01-04T12:50:03.278Z', '__v': 0, 'mTIMESTAMP': '04-Jan-2024'}, {'_id': '6596a97b8bc6e5de3cccf2ab', 'BD_DT_DATE': '04-JAN-2024', 'BD_SYMBOL': 'HEADSUP', 'BD_SCRIP_NAME': 'Heads UP Ventures Limited', 'BD_CLIENT_NAME': 'MITTAL RIMPY', 'BD_BUY_SELL': 'BUY', 'BD_QTY_TRD': 121036, 'BD_TP_WATP': 16.39, 'BD_REMARKS': '-', 'TIMESTAMP': '2024-01-03T18:30:00.000Z', 'createdAt': '2024-01-04T12:50:03.197Z', 'updatedAt': '2024-01-04T12:50:03.197Z', '__v': 0, 'mTIMESTAMP': '04-Jan-2024'}, {'_id': '6596a97b8bc6e5de3cccf30a', 'BD_DT_DATE': '04-JAN-2024', 'BD_SYMBOL': 'HEADSUP', 'BD_SCRIP_NAME': 'Heads UP Ventures Limited', 'BD_CLIENT_NAME': 'MITTAL RIMPY', 'BD_BUY_SELL': 'SELL', 'BD_QTY_TRD': 121036, 'BD_TP_WATP': 16.78, 'BD_REMARKS': '-', 'TIMESTAMP': '2024-01-03T18:30:00.000Z', 'createdAt': '2024-01-04T12:50:03.285Z', 'updatedAt': '2024-01-04T12:50:03.285Z', '__v': 0, 'mTIMESTAMP': '04-Jan-2024'}, {'_id': '6596a97b8bc6e5de3cccf2ac', 'BD_DT_DATE': '04-JAN-2024', 'BD_SYMBOL': 'HFCL', 'BD_SCRIP_NAME': 'HFCL Limited', 'BD_CLIENT_NAME': 'GRAVITON RESEARCH CAPITAL LLP', 'BD_BUY_SELL': 'BUY', 'BD_QTY_TRD': 8886808, 'BD_TP_WATP': 92.31, 'BD_REMARKS': '-', 'TIMESTAMP': '2024-01-03T18:30:00.000Z', 'createdAt': '2024-01-04T12:50:03.199Z', 'updatedAt': '2024-01-04T12:50:03.199Z', '__v': 0, 'mTIMESTAMP': '04-Jan-2024'}, {'_id': '6596a97b8bc6e5de3cccf30c', 'BD_DT_DATE': '04-JAN-2024', 'BD_SYMBOL': 'HFCL', 'BD_SCRIP_NAME': 'HFCL Limited', 'BD_CLIENT_NAME': 'GRAVITON RESEARCH CAPITAL LLP', 'BD_BUY_SELL': 'SELL', 'BD_QTY_TRD': 8886808, 'BD_TP_WATP': 92.35, 'BD_REMARKS': '-', 'TIMESTAMP': '2024-01-03T18:30:00.000Z', 'createdAt': '2024-01-04T12:50:03.286Z', 'updatedAt': '2024-01-04T12:50:03.286Z', '__v': 0, 'mTIMESTAMP': '04-Jan-2024'}, {'_id': '6596a97b8bc6e5de3cccf2ad', 'BD_DT_DATE': '04-JAN-2024', 'BD_SYMBOL': 'HFCL', 'BD_SCRIP_NAME': 'HFCL Limited', 'BD_CLIENT_NAME': 'HRTI PRIVATE LIMITED', 'BD_BUY_SELL': 'BUY', 'BD_QTY_TRD': 7034892, 'BD_TP_WATP': 92.4, 'BD_REMARKS': '-', 'TIMESTAMP': '2024-01-03T18:30:00.000Z', 'createdAt': '2024-01-04T12:50:03.193Z', 'updatedAt': '2024-01-04T12:50:03.193Z', '__v': 0, 'mTIMESTAMP': '04-Jan-2024'}, {'_id': '6596a97b8bc6e5de3cccf30b', 'BD_DT_DATE': '04-JAN-2024', 'BD_SYMBOL': 'HFCL', 'BD_SCRIP_NAME': 'HFCL Limited', 'BD_CLIENT_NAME': 'HRTI PRIVATE LIMITED', 'BD_BUY_SELL': 'SELL', 'BD_QTY_TRD': 7414211, 'BD_TP_WATP': 92.55, 'BD_REMARKS': '-', 'TIMESTAMP': '2024-01-03T18:30:00.000Z', 'createdAt': '2024-01-04T12:50:03.285Z', 'updatedAt': '2024-01-04T12:50:03.285Z', '__v': 0, 'mTIMESTAMP': '04-Jan-2024'}, {'_id': '6596a97b8bc6e5de3cccf2ae', 'BD_DT_DATE': '04-JAN-2024', 'BD_SYMBOL': 'HITECH', 'BD_SCRIP_NAME': 'Hi-Tech Pipes Limited', 'BD_CLIENT_NAME': 'GRAVITON RESEARCH CAPITAL LLP', 'BD_BUY_SELL': 'BUY', 'BD_QTY_TRD': 716965, 'BD_TP_WATP': 127.42, 'BD_REMARKS': '-', 'TIMESTAMP': '2024-01-03T18:30:00.000Z', 'createdAt': '2024-01-04T12:50:03.201Z', 'updatedAt': '2024-01-04T12:50:03.201Z', '__v': 0, 'mTIMESTAMP': '04-Jan-2024'}, {'_id': '6596a97b8bc6e5de3cccf30d', 'BD_DT_DATE': '04-JAN-2024', 'BD_SYMBOL': 'HITECH', 'BD_SCRIP_NAME': 'Hi-Tech Pipes Limited', 'BD_CLIENT_NAME': 'GRAVITON RESEARCH CAPITAL LLP', 'BD_BUY_SELL': 'SELL', 'BD_QTY_TRD': 716965, 'BD_TP_WATP': 127.47, 'BD_REMARKS': '-', 'TIMESTAMP': '2024-01-03T18:30:00.000Z', 'createdAt': '2024-01-04T12:50:03.291Z', 'updatedAt': '2024-01-04T12:50:03.291Z', '__v': 0, 'mTIMESTAMP': '04-Jan-2024'}, {'_id': '6596a97b8bc6e5de3cccf2af', 'BD_DT_DATE': '04-JAN-2024', 'BD_SYMBOL': 'HRHNEXT', 'BD_SCRIP_NAME': 'HRH Next Services Limited', 'BD_CLIENT_NAME': 'ASHWIN STOCKS AND INVESTMENT PRIVATE LIMITED', 'BD_BUY_SELL': 'BUY', 'BD_QTY_TRD': 48000, 'BD_TP_WATP': 45.2, 'BD_REMARKS': '-', 'TIMESTAMP': '2024-01-03T18:30:00.000Z', 'createdAt': '2024-01-04T12:50:03.194Z', 'updatedAt': '2024-01-04T12:50:03.194Z', '__v': 0, 'mTIMESTAMP': '04-Jan-2024'}, {'_id': '6596a97b8bc6e5de3cccf2b0', 'BD_DT_DATE': '04-JAN-2024', 'BD_SYMBOL': 'HRHNEXT', 'BD_SCRIP_NAME': 'HRH Next Services Limited', 'BD_CLIENT_NAME': 'MANSI SHARE AND STOCK ADVISORS PVT LTD', 'BD_BUY_SELL': 'BUY', 'BD_QTY_TRD': 27000, 'BD_TP_WATP': 45.2, 'BD_REMARKS': '-', 'TIMESTAMP': '2024-01-03T18:30:00.000Z', 'createdAt': '2024-01-04T12:50:03.201Z', 'updatedAt': '2024-01-04T12:50:03.201Z', '__v': 0, 'mTIMESTAMP': '04-Jan-2024'}, {'_id': '6596a97b8bc6e5de3cccf30e', 'BD_DT_DATE': '04-JAN-2024', 'BD_SYMBOL': 'HRHNEXT', 'BD_SCRIP_NAME': 'HRH Next Services Limited', 'BD_CLIENT_NAME': 'MANSI SHARE AND STOCK ADVISORS PVT LTD', 'BD_BUY_SELL': 'SELL', 'BD_QTY_TRD': 225000, 'BD_TP_WATP': 45.15, 'BD_REMARKS': '-', 'TIMESTAMP': '2024-01-03T18:30:00.000Z', 'createdAt': '2024-01-04T12:50:03.292Z', 'updatedAt': '2024-01-04T12:50:03.292Z', '__v': 0, 'mTIMESTAMP': '04-Jan-2024'}, {'_id': '6596a97b8bc6e5de3cccf2b1', 'BD_DT_DATE': '04-JAN-2024', 'BD_SYMBOL': 'IBREALEST', 'BD_SCRIP_NAME': 'Indiabulls Real Estate Li', 'BD_CLIENT_NAME': 'GRAVITON RESEARCH CAPITAL LLP', 'BD_BUY_SELL': 'BUY', 'BD_QTY_TRD': 3895019, 'BD_TP_WATP': 93.42, 'BD_REMARKS': '-', 'TIMESTAMP': '2024-01-03T18:30:00.000Z', 'createdAt': '2024-01-04T12:50:03.203Z', 'updatedAt': '2024-01-04T12:50:03.203Z', '__v': 0, 'mTIMESTAMP': '04-Jan-2024'}, {'_id': '6596a97b8bc6e5de3cccf310', 'BD_DT_DATE': '04-JAN-2024', 'BD_SYMBOL': 'IBREALEST', 'BD_SCRIP_NAME': 'Indiabulls Real Estate Li', 'BD_CLIENT_NAME': 'GRAVITON RESEARCH CAPITAL LLP', 'BD_BUY_SELL': 'SELL', 'BD_QTY_TRD': 3895019, 'BD_TP_WATP': 93.46, 'BD_REMARKS': '-', 'TIMESTAMP': '2024-01-03T18:30:00.000Z', 'createdAt': '2024-01-04T12:50:03.294Z', 'updatedAt': '2024-01-04T12:50:03.294Z', '__v': 0, 'mTIMESTAMP': '04-Jan-2024'}, {'_id': '6596a97b8bc6e5de3cccf2b2', 'BD_DT_DATE': '04-JAN-2024', 'BD_SYMBOL': 'IBREALEST', 'BD_SCRIP_NAME': 'Indiabulls Real Estate Li', 'BD_CLIENT_NAME': 'HRTI PRIVATE LIMITED', 'BD_BUY_SELL': 'BUY', 'BD_QTY_TRD': 3488564, 'BD_TP_WATP': 92.89, 'BD_REMARKS': '-', 'TIMESTAMP': '2024-01-03T18:30:00.000Z', 'createdAt': '2024-01-04T12:50:03.199Z', 'updatedAt': '2024-01-04T12:50:03.199Z', '__v': 0, 'mTIMESTAMP': '04-Jan-2024'}, {'_id': '6596a97b8bc6e5de3cccf30f', 'BD_DT_DATE': '04-JAN-2024', 'BD_SYMBOL': 'IBREALEST', 'BD_SCRIP_NAME': 'Indiabulls Real Estate Li', 'BD_CLIENT_NAME': 'HRTI PRIVATE LIMITED', 'BD_BUY_SELL': 'SELL', 'BD_QTY_TRD': 3289393, 'BD_TP_WATP': 93.09, 'BD_REMARKS': '-', 'TIMESTAMP': '2024-01-03T18:30:00.000Z', 'createdAt': '2024-01-04T12:50:03.293Z', 'updatedAt': '2024-01-04T12:50:03.293Z', '__v': 0, 'mTIMESTAMP': '04-Jan-2024'}, {'_id': '6596a97b8bc6e5de3cccf2b3', 'BD_DT_DATE': '04-JAN-2024', 'BD_SYMBOL': 'INDIAGLYCO', 'BD_SCRIP_NAME': 'India Glycols Ltd', 'BD_CLIENT_NAME': 'GRAVITON RESEARCH CAPITAL LLP', 'BD_BUY_SELL': 'BUY', 'BD_QTY_TRD': 195748, 'BD_TP_WATP': 902.26, 'BD_REMARKS': '-', 'TIMESTAMP': '2024-01-03T18:30:00.000Z', 'createdAt': '2024-01-04T12:50:03.203Z', 'updatedAt': '2024-01-04T12:50:03.203Z', '__v': 0, 'mTIMESTAMP': '04-Jan-2024'}, {'_id': '6596a97b8bc6e5de3cccf311', 'BD_DT_DATE': '04-JAN-2024', 'BD_SYMBOL': 'INDIAGLYCO', 'BD_SCRIP_NAME': 'India Glycols Ltd', 'BD_CLIENT_NAME': 'GRAVITON RESEARCH CAPITAL LLP', 'BD_BUY_SELL': 'SELL', 'BD_QTY_TRD': 195748, 'BD_TP_WATP': 902.58, 'BD_REMARKS': '-', 'TIMESTAMP': '2024-01-03T18:30:00.000Z', 'createdAt': '2024-01-04T12:50:03.295Z', 'updatedAt': '2024-01-04T12:50:03.295Z', '__v': 0, 'mTIMESTAMP': '04-Jan-2024'}, {'_id': '6596a97b8bc6e5de3cccf2b4', 'BD_DT_DATE': '04-JAN-2024', 'BD_SYMBOL': 'INDOAMIN', 'BD_SCRIP_NAME': 'Indo Amines Limited', 'BD_CLIENT_NAME': 'GRAVITON RESEARCH CAPITAL LLP', 'BD_BUY_SELL': 'BUY', 'BD_QTY_TRD': 434777, 'BD_TP_WATP': 168.19, 'BD_REMARKS': '-', 'TIMESTAMP': '2024-01-03T18:30:00.000Z', 'createdAt': '2024-01-04T12:50:03.204Z', 'updatedAt': '2024-01-04T12:50:03.204Z', '__v': 0, 'mTIMESTAMP': '04-Jan-2024'}, {'_id': '6596a97b8bc6e5de3cccf312', 'BD_DT_DATE': '04-JAN-2024', 'BD_SYMBOL': 'INDOAMIN', 'BD_SCRIP_NAME': 'Indo Amines Limited', 'BD_CLIENT_NAME': 'GRAVITON RESEARCH CAPITAL LLP', 'BD_BUY_SELL': 'SELL', 'BD_QTY_TRD': 434777, 'BD_TP_WATP': 168.01, 'BD_REMARKS': '-', 'TIMESTAMP': '2024-01-03T18:30:00.000Z', 'createdAt': '2024-01-04T12:50:03.291Z', 'updatedAt': '2024-01-04T12:50:03.291Z', '__v': 0, 'mTIMESTAMP': '04-Jan-2024'}, {'_id': '6596a97b8bc6e5de3cccf2b5', 'BD_DT_DATE': '04-JAN-2024', 'BD_SYMBOL': 'INDOAMIN', 'BD_SCRIP_NAME': 'Indo Amines Limited', 'BD_CLIENT_NAME': 'JAINAM BROKING LIMITED', 'BD_BUY_SELL': 'BUY', 'BD_QTY_TRD': 389303, 'BD_TP_WATP': 168.52, 'BD_REMARKS': '-', 'TIMESTAMP': '2024-01-03T18:30:00.000Z', 'createdAt': '2024-01-04T12:50:03.205Z', 'updatedAt': '2024-01-04T12:50:03.205Z', '__v': 0, 'mTIMESTAMP': '04-Jan-2024'}, {'_id': '6596a97b8bc6e5de3cccf313', 'BD_DT_DATE': '04-JAN-2024', 'BD_SYMBOL': 'INDOAMIN', 'BD_SCRIP_NAME': 'Indo Amines Limited', 'BD_CLIENT_NAME': 'JAINAM BROKING LIMITED', 'BD_BUY_SELL': 'SELL', 'BD_QTY_TRD': 21303, 'BD_TP_WATP': 166.08, 'BD_REMARKS': '-', 'TIMESTAMP': '2024-01-03T18:30:00.000Z', 'createdAt': '2024-01-04T12:50:03.292Z', 'updatedAt': '2024-01-04T12:50:03.292Z', '__v': 0, 'mTIMESTAMP': '04-Jan-2024'}, {'_id': '6596a97b8bc6e5de3cccf2b6', 'BD_DT_DATE': '04-JAN-2024', 'BD_SYMBOL': 'INDTERRAIN', 'BD_SCRIP_NAME': 'Ind Terrain Fashions Ltd', 'BD_CLIENT_NAME': 'GRAVITON RESEARCH CAPITAL LLP', 'BD_BUY_SELL': 'BUY', 'BD_QTY_TRD': 310762, 'BD_TP_WATP': 75.63, 'BD_REMARKS': '-', 'TIMESTAMP': '2024-01-03T18:30:00.000Z', 'createdAt': '2024-01-04T12:50:03.198Z', 'updatedAt': '2024-01-04T12:50:03.198Z', '__v': 0, 'mTIMESTAMP': '04-Jan-2024'}, {'_id': '6596a97b8bc6e5de3cccf314', 'BD_DT_DATE': '04-JAN-2024', 'BD_SYMBOL': 'INDTERRAIN', 'BD_SCRIP_NAME': 'Ind Terrain Fashions Ltd', 'BD_CLIENT_NAME': 'GRAVITON RESEARCH CAPITAL LLP', 'BD_BUY_SELL': 'SELL', 'BD_QTY_TRD': 310762, 'BD_TP_WATP': 75.68, 'BD_REMARKS': '-', 'TIMESTAMP': '2024-01-03T18:30:00.000Z', 'createdAt': '2024-01-04T12:50:03.295Z', 'updatedAt': '2024-01-04T12:50:03.295Z', '__v': 0, 'mTIMESTAMP': '04-Jan-2024'}, {'_id': '6596a97b8bc6e5de3cccf2b7', 'BD_DT_DATE': '04-JAN-2024', 'BD_SYMBOL': 'INFOLLION', 'BD_SCRIP_NAME': 'Infollion Research Ser L', 'BD_CLIENT_NAME': 'CRONY VYAPAR PVT LTD', 'BD_BUY_SELL': 'BUY', 'BD_QTY_TRD': 104800, 'BD_TP_WATP': 227.17, 'BD_REMARKS': '-', 'TIMESTAMP': '2024-01-03T18:30:00.000Z', 'createdAt': '2024-01-04T12:50:03.206Z', 'updatedAt': '2024-01-04T12:50:03.206Z', '__v': 0, 'mTIMESTAMP': '04-Jan-2024'}, {'_id': '6596a97b8bc6e5de3cccf315', 'BD_DT_DATE': '04-JAN-2024', 'BD_SYMBOL': 'INFOLLION', 'BD_SCRIP_NAME': 'Infollion Research Ser L', 'BD_CLIENT_NAME': 'CRONY VYAPAR PVT LTD', 'BD_BUY_SELL': 'SELL', 'BD_QTY_TRD': 96800, 'BD_TP_WATP': 229.48, 'BD_REMARKS': '-', 'TIMESTAMP': '2024-01-03T18:30:00.000Z', 'createdAt': '2024-01-04T12:50:03.300Z', 'updatedAt': '2024-01-04T12:50:03.300Z', '__v': 0, 'mTIMESTAMP': '04-Jan-2024'}, {'_id': '6596a97b8bc6e5de3cccf2ba', 'BD_DT_DATE': '04-JAN-2024', 'BD_SYMBOL': 'INVENTURE', 'BD_SCRIP_NAME': 'Inventure Gro & Sec Ltd', 'BD_CLIENT_NAME': 'ANKITA VISHAL SHAH', 'BD_BUY_SELL': 'BUY', 'BD_QTY_TRD': 10774074, 'BD_TP_WATP': 3.09, 'BD_REMARKS': '-', 'TIMESTAMP': '2024-01-03T18:30:00.000Z', 'createdAt': '2024-01-04T12:50:03.214Z', 'updatedAt': '2024-01-04T12:50:03.214Z', '__v': 0, 'mTIMESTAMP': '04-Jan-2024'}, {'_id': '6596a97b8bc6e5de3cccf316', 'BD_DT_DATE': '04-JAN-2024', 'BD_SYMBOL': 'INVENTURE', 'BD_SCRIP_NAME': 'Inventure Gro & Sec Ltd', 'BD_CLIENT_NAME': 'ANKITA VISHAL SHAH', 'BD_BUY_SELL': 'SELL', 'BD_QTY_TRD': 9474074, 'BD_TP_WATP': 3.19, 'BD_REMARKS': '-', 'TIMESTAMP': '2024-01-03T18:30:00.000Z', 'createdAt': '2024-01-04T12:50:03.296Z', 'updatedAt': '2024-01-04T12:50:03.296Z', '__v': 0, 'mTIMESTAMP': '04-Jan-2024'}, {'_id': '6596a97b8bc6e5de3cccf2b9', 'BD_DT_DATE': '04-JAN-2024', 'BD_SYMBOL': 'INVENTURE', 'BD_SCRIP_NAME': 'Inventure Gro & Sec Ltd', 'BD_CLIENT_NAME': 'INDRA KIRAN VENTURES', 'BD_BUY_SELL': 'BUY', 'BD_QTY_TRD': 5345782, 'BD_TP_WATP': 3.23, 'BD_REMARKS': '-', 'TIMESTAMP': '2024-01-03T18:30:00.000Z', 'createdAt': '2024-01-04T12:50:03.207Z', 'updatedAt': '2024-01-04T12:50:03.207Z', '__v': 0, 'mTIMESTAMP': '04-Jan-2024'}, {'_id': '6596a97b8bc6e5de3cccf317', 'BD_DT_DATE': '04-JAN-2024', 'BD_SYMBOL': 'INVENTURE', 'BD_SCRIP_NAME': 'Inventure Gro & Sec Ltd', 'BD_CLIENT_NAME': 'INDRA KIRAN VENTURES', 'BD_BUY_SELL': 'SELL', 'BD_QTY_TRD': 4600049, 'BD_TP_WATP': 3.22, 'BD_REMARKS': '-', 'TIMESTAMP': '2024-01-03T18:30:00.000Z', 'createdAt': '2024-01-04T12:50:03.301Z', 'updatedAt': '2024-01-04T12:50:03.301Z', '__v': 0, 'mTIMESTAMP': '04-Jan-2024'}, {'_id': '6596a97b8bc6e5de3cccf2bb', 'BD_DT_DATE': '04-JAN-2024', 'BD_SYMBOL': 'INVENTURE', 'BD_SCRIP_NAME': 'Inventure Gro & Sec Ltd', 'BD_CLIENT_NAME': 'MOHTA SARITA', 'BD_BUY_SELL': 'BUY', 'BD_QTY_TRD': 6630000, 'BD_TP_WATP': 3.22, 'BD_REMARKS': '-', 'TIMESTAMP': '2024-01-03T18:30:00.000Z', 'createdAt': '2024-01-04T12:50:03.208Z', 'updatedAt': '2024-01-04T12:50:03.208Z', '__v': 0, 'mTIMESTAMP': '04-Jan-2024'}, {'_id': '6596a97b8bc6e5de3cccf2b8', 'BD_DT_DATE': '04-JAN-2024', 'BD_SYMBOL': 'INVENTURE', 'BD_SCRIP_NAME': 'Inventure Gro & Sec Ltd', 'BD_CLIENT_NAME': 'TOPGAIN FINANCE PRIVATE LIMITED', 'BD_BUY_SELL': 'BUY', 'BD_QTY_TRD': 5900000, 'BD_TP_WATP': 3.3, 'BD_REMARKS': '-', 'TIMESTAMP': '2024-01-03T18:30:00.000Z', 'createdAt': '2024-01-04T12:50:03.201Z', 'updatedAt': '2024-01-04T12:50:03.201Z', '__v': 0, 'mTIMESTAMP': '04-Jan-2024'}, {'_id': '6596a97b8bc6e5de3cccf2bc', 'BD_DT_DATE': '04-JAN-2024', 'BD_SYMBOL': 'IPL', 'BD_SCRIP_NAME': 'India Pesticides Limited', 'BD_CLIENT_NAME': 'YASHWI SECURITIES PVT. LTD.', 'BD_BUY_SELL': 'BUY', 'BD_QTY_TRD': 632625, 'BD_TP_WATP': 371.03, 'BD_REMARKS': '-', 'TIMESTAMP': '2024-01-03T18:30:00.000Z', 'createdAt': '2024-01-04T12:50:03.208Z', 'updatedAt': '2024-01-04T12:50:03.208Z', '__v': 0, 'mTIMESTAMP': '04-Jan-2024'}, {'_id': '6596a97b8bc6e5de3cccf318', 'BD_DT_DATE': '04-JAN-2024', 'BD_SYMBOL': 'IPL', 'BD_SCRIP_NAME': 'India Pesticides Limited', 'BD_CLIENT_NAME': 'YASHWI SECURITIES PVT. LTD.', 'BD_BUY_SELL': 'SELL', 'BD_QTY_TRD': 675142, 'BD_TP_WATP': 369.63, 'BD_REMARKS': '-', 'TIMESTAMP': '2024-01-03T18:30:00.000Z', 'createdAt': '2024-01-04T12:50:03.298Z', 'updatedAt': '2024-01-04T12:50:03.298Z', '__v': 0, 'mTIMESTAMP': '04-Jan-2024'}, {'_id': '6596a97b8bc6e5de3cccf2bd', 'BD_DT_DATE': '04-JAN-2024', 'BD_SYMBOL': 'KCP', 'BD_SCRIP_NAME': 'KCP Ltd', 'BD_CLIENT_NAME': 'GRAVITON RESEARCH CAPITAL LLP', 'BD_BUY_SELL': 'BUY', 'BD_QTY_TRD': 799614, 'BD_TP_WATP': 171.36, 'BD_REMARKS': '-', 'TIMESTAMP': '2024-01-03T18:30:00.000Z', 'createdAt': '2024-01-04T12:50:03.210Z', 'updatedAt': '2024-01-04T12:50:03.210Z', '__v': 0, 'mTIMESTAMP': '04-Jan-2024'}, {'_id': '6596a97b8bc6e5de3cccf319', 'BD_DT_DATE': '04-JAN-2024', 'BD_SYMBOL': 'KCP', 'BD_SCRIP_NAME': 'KCP Ltd', 'BD_CLIENT_NAME': 'GRAVITON RESEARCH CAPITAL LLP', 'BD_BUY_SELL': 'SELL', 'BD_QTY_TRD': 799614, 'BD_TP_WATP': 171.35, 'BD_REMARKS': '-', 'TIMESTAMP': '2024-01-03T18:30:00.000Z', 'createdAt': '2024-01-04T12:50:03.303Z', 'updatedAt': '2024-01-04T12:50:03.303Z', '__v': 0, 'mTIMESTAMP': '04-Jan-2024'}, {'_id': '6596a97b8bc6e5de3cccf31a', 'BD_DT_DATE': '04-JAN-2024', 'BD_SYMBOL': 'KHANDSE', 'BD_SCRIP_NAME': 'Khandwala Sec. Ltd', 'BD_CLIENT_NAME': 'ALKESH SANGHVI', 'BD_BUY_SELL': 'SELL', 'BD_QTY_TRD': 79364, 'BD_TP_WATP': 27.07, 'BD_REMARKS': '-', 'TIMESTAMP': '2024-01-03T18:30:00.000Z', 'createdAt': '2024-01-04T12:50:03.303Z', 'updatedAt': '2024-01-04T12:50:03.303Z', '__v': 0, 'mTIMESTAMP': '04-Jan-2024'}, {'_id': '6596a97b8bc6e5de3cccf2c3', 'BD_DT_DATE': '04-JAN-2024', 'BD_SYMBOL': 'LATTEYS', 'BD_SCRIP_NAME': 'Latteys Industries Ltd', 'BD_CLIENT_NAME': 'ELAN VENTURES PRIVATE LIMITED', 'BD_BUY_SELL': 'BUY', 'BD_QTY_TRD': 710358, 'BD_TP_WATP': 33.21, 'BD_REMARKS': '-', 'TIMESTAMP': '2024-01-03T18:30:00.000Z', 'createdAt': '2024-01-04T12:50:03.211Z', 'updatedAt': '2024-01-04T12:50:03.211Z', '__v': 0, 'mTIMESTAMP': '04-Jan-2024'}, {'_id': '6596a97b8bc6e5de3cccf31f', 'BD_DT_DATE': '04-JAN-2024', 'BD_SYMBOL': 'LATTEYS', 'BD_SCRIP_NAME': 'Latteys Industries Ltd', 'BD_CLIENT_NAME': 'ELAN VENTURES PRIVATE LIMITED', 'BD_BUY_SELL': 'SELL', 'BD_QTY_TRD': 710358, 'BD_TP_WATP': 33.92, 'BD_REMARKS': '-', 'TIMESTAMP': '2024-01-03T18:30:00.000Z', 'createdAt': '2024-01-04T12:50:03.302Z', 'updatedAt': '2024-01-04T12:50:03.302Z', '__v': 0, 'mTIMESTAMP': '04-Jan-2024'}], 'meta': {'fromDate': '04-01-2024', 'toDate': '04-01-2024', 'symbols': [None]}}\n"
     ]
    }
   ],
   "source": [
    "# Fetch New Bulk Deals from the NSE\n",
    "from_date = \"04-01-2024\"\n",
    "to_date = \"04-01-2024\"\n",
    "new_bulk_deals = nse_largedeals_historical(from_date, to_date)\n",
    "new_bulk_deals = new_bulk_deals[new_bulk_deals['BD_CLIENT_NAME'] == 'GRAVITON RESEARCH CAPITAL LLP']\n",
    "new_bulk_deals = new_bulk_deals[['BD_SYMBOL']]\n",
    "new_bulk_deals.drop_duplicates(inplace=True)\n",
    "for symbol in new_bulk_deals['BD_SYMBOL'].values:\n",
    "    if symbol in bulk_deals.index:\n",
    "        bulk_deals.loc[symbol]['COUNT'] += 1\n",
    "    else:\n",
    "        new_deal = {'COUNT': 1}\n",
    "        bulk_deals.loc[symbol] = new_deal\n",
    "bulk_deals = bulk_deals.sort_values('COUNT', ascending=False)"
   ]
  },
  {
   "cell_type": "markdown",
   "id": "aef1b18e",
   "metadata": {},
   "source": [
    "### Save The File Now"
   ]
  },
  {
   "cell_type": "code",
   "execution_count": 6,
   "id": "833b1c55",
   "metadata": {},
   "outputs": [],
   "source": [
    "bulk_deals.to_csv('Bulk_Deals.csv')"
   ]
  },
  {
   "cell_type": "code",
   "execution_count": 7,
   "id": "cd44769b",
   "metadata": {},
   "outputs": [
    {
     "name": "stdout",
     "output_type": "stream",
     "text": [
      "Execution Completed!!!!\n"
     ]
    }
   ],
   "source": [
    "figure_html = open('bulk_deals_figure.html', 'w')\n",
    "\n",
    "plot_symbols = [symbol for symbol in bulk_deals.index.values if symbol in stock_data.index.values]\n",
    "\n",
    "for symbol in plot_symbols[0:50]:\n",
    "    data = yf.download(symbol + \".NS\", start='2023-01-01', end=pd.to_datetime('today')+pd.DateOffset(1), progress=False)\n",
    "    \n",
    "    data['20DMA'] = data['Close'].rolling(window=20).mean()\n",
    "    data['40DMA']= data['Close'].rolling(window=40).mean()\n",
    "    data['100DMA']= data['Close'].rolling(window=100).mean()\n",
    "    \n",
    "    data['diff'] = data['Close'] - data['Open']\n",
    "    data.loc[data['diff'] >= 0, 'color'] = 'green'\n",
    "    data.loc[data['diff'] < 0, 'color'] = 'red'\n",
    "    \n",
    "    plot_data = data[data.index > (pd.to_datetime('today') - pd.DateOffset(days=240))]\n",
    "\n",
    "    figure = make_subplots(specs=[[{\"secondary_y\": True}]])\n",
    "    figure.add_trace(go.Candlestick(x = plot_data.index,\n",
    "                              open = plot_data['Open'],\n",
    "                              high = plot_data['High'],\n",
    "                              low = plot_data['Low'],\n",
    "                              close = plot_data['Close'],\n",
    "                              name='Price'))\n",
    "    # Adding Text Below\n",
    "    stock_row = stock_data.loc[symbol]\n",
    "    figure.add_annotation(dict(font=dict(color='black', size=16.5),\n",
    "        x=0.5,  # Center aligned horizontally\n",
    "        y=-0.12, showarrow=False,\n",
    "        text=\"SECTOR - \" + str(stock_row['SECTOR']) + \"  FNO - \" + str(bool(stock_row['FNO'])),\n",
    "        textangle=0,\n",
    "        xanchor='center',  # Center aligned horizontally\n",
    "        yanchor='bottom',  # Aligned to the bottom\n",
    "        xref=\"paper\", yref=\"paper\"))\n",
    "    \n",
    "    figure.add_trace(go.Scatter(x=plot_data.index, y=plot_data['20DMA'], marker_color='blue',name='20 Day MA'))\n",
    "    figure.add_trace(go.Scatter(x=plot_data.index, y=plot_data['40DMA'], marker_color='orange',name='40 Day MA'))\n",
    "    figure.add_trace(go.Scatter(x=plot_data.index, y=plot_data['100DMA'], marker_color='green',name='100 Day MA'))\n",
    "    figure.add_trace(go.Bar(x=plot_data.index, y=plot_data['Volume'], name='Volume', marker={'color':plot_data['color']}),secondary_y=True)\n",
    "    \n",
    "    figure.update_yaxes(range=[0, plot_data['Volume'].max()*5], secondary_y=True)\n",
    "    figure.update_yaxes(visible=False, secondary_y=True)\n",
    "    figure.update_layout(title={'text':symbol, 'x':0.5})\n",
    "    \n",
    "    figure.update_layout(xaxis_rangeslider_visible=False)  #hide range slider\n",
    "    figure.update_xaxes(rangebreaks = [ dict(bounds=['sat','mon']) ] ) # hide weekends \n",
    "    \n",
    "    # figure.show()\n",
    "    figure_html.write(figure.to_html(full_html=False))\n",
    "print('Execution Completed!!!!')"
   ]
  },
  {
   "cell_type": "code",
   "execution_count": null,
   "id": "ed1d659b",
   "metadata": {},
   "outputs": [],
   "source": []
  }
 ],
 "metadata": {
  "kernelspec": {
   "display_name": "Python 3 (ipykernel)",
   "language": "python",
   "name": "python3"
  },
  "language_info": {
   "codemirror_mode": {
    "name": "ipython",
    "version": 3
   },
   "file_extension": ".py",
   "mimetype": "text/x-python",
   "name": "python",
   "nbconvert_exporter": "python",
   "pygments_lexer": "ipython3",
   "version": "3.11.4"
  }
 },
 "nbformat": 4,
 "nbformat_minor": 5
}
